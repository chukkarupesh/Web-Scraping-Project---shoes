{
 "cells": [
  {
   "cell_type": "code",
   "execution_count": 1,
   "id": "2dca5a82",
   "metadata": {},
   "outputs": [],
   "source": [
    "import requests\n",
    "from bs4 import BeautifulSoup"
   ]
  },
  {
   "cell_type": "code",
   "execution_count": 2,
   "id": "210e4496",
   "metadata": {},
   "outputs": [
    {
     "data": {
      "text/plain": [
       "<Response [200]>"
      ]
     },
     "execution_count": 2,
     "metadata": {},
     "output_type": "execute_result"
    }
   ],
   "source": [
    "url = \"https://www.flipkart.com/search?q=shoes&otracker=search&otracker1=search&marketplace=FLIPKART&as-show=on&as=off&p%5B%5D=facets.brand%255B%255D%3DPUMA&p%5B%5D=facets.brand%255B%255D%3DADIDAS&p%5B%5D=facets.brand%255B%255D%3DNIKE&p%5B%5D=facets.brand%255B%255D%3DBata&p%5B%5D=facets.brand%255B%255D%3DWOODLAND&p%5B%5D=facets.brand%255B%255D%3DCROCS&p%5B%5D=facets.brand%255B%255D%3DRED%2BTAPE&p%5B%5D=facets.brand%255B%255D%3DSkechers&p%5B%5D=facets.brand%255B%255D%3DREEBOK&p%5B%5D=facets.brand%255B%255D%3DALBERTO%2BTORRESI&p%5B%5D=facets.brand%255B%255D%3DARROW&p%5B%5D=facets.brand%255B%255D%3DCAMPUS\"\n",
    "page = requests.get(url)\n",
    "page"
   ]
  },
  {
   "cell_type": "code",
   "execution_count": 3,
   "id": "d4ab9ea8",
   "metadata": {},
   "outputs": [],
   "source": [
    "soup = BeautifulSoup(page.text)"
   ]
  },
  {
   "cell_type": "code",
   "execution_count": 4,
   "id": "699e9b3e",
   "metadata": {},
   "outputs": [
    {
     "data": {
      "text/plain": [
       "[<div class=\"_30jeq3\">₹1,378</div>,\n",
       " <div class=\"_30jeq3\">₹1,361</div>,\n",
       " <div class=\"_30jeq3\">₹899</div>,\n",
       " <div class=\"_30jeq3\">₹829</div>,\n",
       " <div class=\"_30jeq3\">₹1,139</div>,\n",
       " <div class=\"_30jeq3\">₹899</div>,\n",
       " <div class=\"_30jeq3\">₹1,367</div>,\n",
       " <div class=\"_30jeq3\">₹1,095</div>,\n",
       " <div class=\"_30jeq3\">₹3,179</div>,\n",
       " <div class=\"_30jeq3\">₹759</div>,\n",
       " <div class=\"_30jeq3\">₹2,873</div>,\n",
       " <div class=\"_30jeq3\">₹781</div>,\n",
       " <div class=\"_30jeq3\">₹799</div>,\n",
       " <div class=\"_30jeq3\">₹1,139</div>,\n",
       " <div class=\"_30jeq3\">₹799</div>,\n",
       " <div class=\"_30jeq3\">₹1,579</div>,\n",
       " <div class=\"_30jeq3\">₹1,085</div>,\n",
       " <div class=\"_30jeq3\">₹1,407</div>,\n",
       " <div class=\"_30jeq3\">₹1,699</div>,\n",
       " <div class=\"_30jeq3\">₹3,179</div>,\n",
       " <div class=\"_30jeq3\">₹1,255</div>,\n",
       " <div class=\"_30jeq3\">₹1,082</div>,\n",
       " <div class=\"_30jeq3\">₹689</div>,\n",
       " <div class=\"_30jeq3\">₹1,079</div>,\n",
       " <div class=\"_30jeq3\">₹699</div>,\n",
       " <div class=\"_30jeq3\">₹759</div>,\n",
       " <div class=\"_30jeq3\">₹1,057</div>,\n",
       " <div class=\"_30jeq3\">₹1,576</div>,\n",
       " <div class=\"_30jeq3\">₹1,379</div>,\n",
       " <div class=\"_30jeq3\">₹2,489</div>,\n",
       " <div class=\"_30jeq3\">₹2,188</div>,\n",
       " <div class=\"_30jeq3\">₹1,378</div>,\n",
       " <div class=\"_30jeq3\">₹1,361</div>,\n",
       " <div class=\"_30jeq3\">₹899</div>,\n",
       " <div class=\"_30jeq3\">₹799</div>,\n",
       " <div class=\"_30jeq3\">₹799</div>,\n",
       " <div class=\"_30jeq3\">₹1,058</div>,\n",
       " <div class=\"_30jeq3\">₹1,378</div>,\n",
       " <div class=\"_30jeq3\">₹2,009</div>,\n",
       " <div class=\"_30jeq3\">₹1,378</div>]"
      ]
     },
     "execution_count": 4,
     "metadata": {},
     "output_type": "execute_result"
    }
   ],
   "source": [
    "soup.find_all(\"div\",class_=\"_30jeq3\")"
   ]
  },
  {
   "cell_type": "code",
   "execution_count": 5,
   "id": "c5708e6f",
   "metadata": {},
   "outputs": [],
   "source": [
    "p1 = soup.find_all(\"div\",class_=\"_30jeq3\")"
   ]
  },
  {
   "cell_type": "code",
   "execution_count": 6,
   "id": "b3c2a59c",
   "metadata": {},
   "outputs": [],
   "source": [
    "Price = []\n",
    "url = [\"\"\"https://www.flipkart.com/search?q=shoes&otracker=search&otracker1=search&marketplace=FLIPKART&as-show=on&as=off&p%5B%5D=facets.brand%255B%255D%3DPUMA&p%5B%5D=facets.brand%255B%255D%3DADIDAS&p%5B%5D=facets.brand%255B%255D%3DNIKE&p%5B%5D=facets.brand%255B%255D%3DBata&p%5B%5D=facets.brand%255B%255D%3DWOODLAND&p%5B%5D=facets.brand%255B%255D%3DCROCS&p%5B%5D=facets.brand%255B%255D%3DRED%2BTAPE&p%5B%5D=facets.brand%255B%255D%3DSkechers&p%5B%5D=facets.brand%255B%255D%3DREEBOK&p%5B%5D=facets.brand%255B%255D%3DALBERTO%2BTORRESI&p%5B%5D=facets.brand%255B%255D%3DARROW&p%5B%5D=facets.brand%255B%255D%3DCAMPUS&page=2\"\"\"]\n",
    "for i in p1:\n",
    "    Price.append(i.text)"
   ]
  },
  {
   "cell_type": "code",
   "execution_count": 7,
   "id": "712f1a28",
   "metadata": {},
   "outputs": [
    {
     "data": {
      "text/plain": [
       "['₹1,378',\n",
       " '₹1,361',\n",
       " '₹899',\n",
       " '₹829',\n",
       " '₹1,139',\n",
       " '₹899',\n",
       " '₹1,367',\n",
       " '₹1,095',\n",
       " '₹3,179',\n",
       " '₹759',\n",
       " '₹2,873',\n",
       " '₹781',\n",
       " '₹799',\n",
       " '₹1,139',\n",
       " '₹799',\n",
       " '₹1,579',\n",
       " '₹1,085',\n",
       " '₹1,407',\n",
       " '₹1,699',\n",
       " '₹3,179',\n",
       " '₹1,255',\n",
       " '₹1,082',\n",
       " '₹689',\n",
       " '₹1,079',\n",
       " '₹699',\n",
       " '₹759',\n",
       " '₹1,057',\n",
       " '₹1,576',\n",
       " '₹1,379',\n",
       " '₹2,489',\n",
       " '₹2,188',\n",
       " '₹1,378',\n",
       " '₹1,361',\n",
       " '₹899',\n",
       " '₹799',\n",
       " '₹799',\n",
       " '₹1,058',\n",
       " '₹1,378',\n",
       " '₹2,009',\n",
       " '₹1,378']"
      ]
     },
     "execution_count": 7,
     "metadata": {},
     "output_type": "execute_result"
    }
   ],
   "source": [
    "Price"
   ]
  },
  {
   "cell_type": "code",
   "execution_count": 8,
   "id": "ef5871dd",
   "metadata": {},
   "outputs": [],
   "source": [
    "data = soup.find_all(\"div\",class_=\"_2WkVRV\")"
   ]
  },
  {
   "cell_type": "code",
   "execution_count": 9,
   "id": "dcba51c0",
   "metadata": {},
   "outputs": [
    {
     "data": {
      "text/plain": [
       "'CAMPUS'"
      ]
     },
     "execution_count": 9,
     "metadata": {},
     "output_type": "execute_result"
    }
   ],
   "source": [
    "data[0].text"
   ]
  },
  {
   "cell_type": "code",
   "execution_count": 10,
   "id": "11add096",
   "metadata": {},
   "outputs": [],
   "source": [
    "Brand = []\n",
    "for i in data:\n",
    "    Brand.append(i.text)"
   ]
  },
  {
   "cell_type": "code",
   "execution_count": 11,
   "id": "9abcc6e3",
   "metadata": {},
   "outputs": [
    {
     "data": {
      "text/plain": [
       "['CAMPUS',\n",
       " 'CAMPUS',\n",
       " 'CAMPUS',\n",
       " 'Bata',\n",
       " 'RED TAPE',\n",
       " 'CAMPUS',\n",
       " 'CAMPUS',\n",
       " 'CAMPUS',\n",
       " 'WOODLAND',\n",
       " 'Bata',\n",
       " 'PUMA',\n",
       " 'CAMPUS',\n",
       " 'CAMPUS',\n",
       " 'RED TAPE',\n",
       " 'CAMPUS',\n",
       " 'RED TAPE',\n",
       " 'CAMPUS',\n",
       " 'CAMPUS',\n",
       " 'RED TAPE',\n",
       " 'WOODLAND',\n",
       " 'CAMPUS',\n",
       " 'CAMPUS',\n",
       " 'Bata',\n",
       " 'RED TAPE',\n",
       " 'CAMPUS',\n",
       " 'Bata',\n",
       " 'CAMPUS',\n",
       " 'CAMPUS',\n",
       " 'RED TAPE',\n",
       " 'WOODLAND',\n",
       " 'ADIDAS',\n",
       " 'CAMPUS',\n",
       " 'CAMPUS',\n",
       " 'CAMPUS',\n",
       " 'CAMPUS',\n",
       " 'CAMPUS',\n",
       " 'CAMPUS',\n",
       " 'CAMPUS',\n",
       " 'WOODLAND',\n",
       " 'CAMPUS']"
      ]
     },
     "execution_count": 11,
     "metadata": {},
     "output_type": "execute_result"
    }
   ],
   "source": [
    "Brand"
   ]
  },
  {
   "cell_type": "code",
   "execution_count": 12,
   "id": "67b0bfa3",
   "metadata": {},
   "outputs": [],
   "source": [
    " data1 = soup.find_all(\"div\",class_=\"_3Ay6Sb\")"
   ]
  },
  {
   "cell_type": "code",
   "execution_count": 13,
   "id": "36b213a6",
   "metadata": {},
   "outputs": [],
   "source": [
    "Discount = []\n",
    "for i in data1:\n",
    "    Discount.append(i.text)"
   ]
  },
  {
   "cell_type": "code",
   "execution_count": null,
   "id": "c40b5067",
   "metadata": {},
   "outputs": [],
   "source": []
  },
  {
   "cell_type": "code",
   "execution_count": 14,
   "id": "57a61acc",
   "metadata": {},
   "outputs": [],
   "source": [
    "import re\n",
    "Discount = []\n",
    "for i in data1:\n",
    "    a = i.text\n",
    "    b = re.findall(\"\\d+\",a)\n",
    "    Discount.append(b)"
   ]
  },
  {
   "cell_type": "code",
   "execution_count": 15,
   "id": "1361c324",
   "metadata": {},
   "outputs": [
    {
     "data": {
      "text/plain": [
       "[['27'],\n",
       " ['19'],\n",
       " ['47'],\n",
       " ['30'],\n",
       " ['80'],\n",
       " ['47'],\n",
       " ['24'],\n",
       " ['35'],\n",
       " ['44'],\n",
       " ['30'],\n",
       " ['47'],\n",
       " ['2'],\n",
       " ['38'],\n",
       " ['80'],\n",
       " ['38'],\n",
       " ['80'],\n",
       " ['22'],\n",
       " ['38'],\n",
       " ['80'],\n",
       " ['44'],\n",
       " ['26'],\n",
       " ['16'],\n",
       " ['31'],\n",
       " ['80'],\n",
       " ['46'],\n",
       " ['30'],\n",
       " ['24'],\n",
       " ['7'],\n",
       " ['80'],\n",
       " ['42'],\n",
       " ['45'],\n",
       " ['27'],\n",
       " ['28'],\n",
       " ['47'],\n",
       " ['42'],\n",
       " ['38'],\n",
       " ['33'],\n",
       " ['27'],\n",
       " ['44'],\n",
       " ['27']]"
      ]
     },
     "execution_count": 15,
     "metadata": {},
     "output_type": "execute_result"
    }
   ],
   "source": [
    "Discount"
   ]
  },
  {
   "cell_type": "code",
   "execution_count": 16,
   "id": "494b0498",
   "metadata": {},
   "outputs": [],
   "source": [
    "data2 = soup.find_all(\"div\",class_=\"_3I9_wc\")"
   ]
  },
  {
   "cell_type": "code",
   "execution_count": 17,
   "id": "fa4eedec",
   "metadata": {},
   "outputs": [],
   "source": [
    "OriginalPrice = []\n",
    "for i in data2:\n",
    "    OriginalPrice.append(i.text)\n",
    "    "
   ]
  },
  {
   "cell_type": "code",
   "execution_count": 18,
   "id": "240be59b",
   "metadata": {},
   "outputs": [
    {
     "data": {
      "text/plain": [
       "['₹1,899',\n",
       " '₹1,699',\n",
       " '₹1,699',\n",
       " '₹1,199',\n",
       " '₹5,699',\n",
       " '₹1,699',\n",
       " '₹1,799',\n",
       " '₹1,699',\n",
       " '₹5,695',\n",
       " '₹1,099',\n",
       " '₹5,499',\n",
       " '₹799',\n",
       " '₹1,299',\n",
       " '₹5,699',\n",
       " '₹1,299',\n",
       " '₹7,899',\n",
       " '₹1,399',\n",
       " '₹2,299',\n",
       " '₹8,499',\n",
       " '₹5,695',\n",
       " '₹1,699',\n",
       " '₹1,299',\n",
       " '₹999',\n",
       " '₹5,399',\n",
       " '₹1,299',\n",
       " '₹1,099',\n",
       " '₹1,399',\n",
       " '₹1,699',\n",
       " '₹6,899',\n",
       " '₹4,295',\n",
       " '₹3,999',\n",
       " '₹1,899',\n",
       " '₹1,899',\n",
       " '₹1,699',\n",
       " '₹1,399',\n",
       " '₹1,299',\n",
       " '₹1,599',\n",
       " '₹1,899',\n",
       " '₹3,595',\n",
       " '₹1,899']"
      ]
     },
     "execution_count": 18,
     "metadata": {},
     "output_type": "execute_result"
    }
   ],
   "source": [
    "OriginalPrice"
   ]
  },
  {
   "cell_type": "code",
   "execution_count": 19,
   "id": "099dd5af",
   "metadata": {},
   "outputs": [],
   "source": [
    "result=soup.find_all(\"a\",class_=\"_2UzuFa\")"
   ]
  },
  {
   "cell_type": "code",
   "execution_count": 20,
   "id": "97dbbe0a",
   "metadata": {
    "scrolled": false
   },
   "outputs": [
    {
     "data": {
      "text/plain": [
       "[<a class=\"_2UzuFa\" href=\"/campus-first-running-shoes-men/p/itmafd353906016a?pid=SHOGFGMBHNDXZKDB&amp;lid=LSTSHOGFGMBHNDXZKDB0B2UU0&amp;marketplace=FLIPKART&amp;q=shoes&amp;store=osp&amp;srno=s_1_1&amp;otracker=search&amp;otracker1=search&amp;fm=organic&amp;iid=en_uwXGejsewNz-EioRYD0u8AXDHquzeH9aKUKZWulhlg4nv5UZyM_M4petLAGIa_YeDzkkNPmxfuV-VHwY4ehkyw%3D%3D&amp;ppt=None&amp;ppn=None&amp;ssid=uyvcj74o7k0000001708147129038&amp;qH=b0a8b6f820479900\" rel=\"noopener noreferrer\" target=\"_blank\"><div><div><div class=\"_3ywSr_\" style=\"padding-top:120.00%\"><div class=\"_312yBx SFzpgZ\" style=\"padding-top:120.00%\"><img alt=\"\" class=\"_2r_T1I\" src=\"https://rukminim2.flixcart.com/image/612/612/l4pxk7k0/shoe/2/d/t/13-22g-787-13-campus-wht-sil-b-org-original-imagfk4zhs2snfbn.jpeg?q=70\"/></div></div></div></div><div class=\"_3kGRXm\" style=\"bottom:4px\"></div><div class=\"_2hVSre _1DmLJ5 -o7Q4n\"><div class=\"_36FSn5\"><svg class=\"_1l0elc\" height=\"28\" viewbox=\"0 0 20 16\" width=\"28\" xmlns=\"http://www.w3.org/2000/svg\"><path class=\"eX72wL\" d=\"M8.695 16.682C4.06 12.382 1 9.536 1 6.065 1 3.219 3.178 1 5.95 1c1.566 0 3.069.746 4.05 1.915C10.981 1.745 12.484 1 14.05 1 16.822 1 19 3.22 19 6.065c0 3.471-3.06 6.316-7.695 10.617L10 17.897l-1.305-1.215z\" fill=\"#2874F0\" fill-rule=\"evenodd\" opacity=\".9\" stroke=\"#FFF\"></path></svg></div></div></a>,\n",
       " <a class=\"_2UzuFa\" href=\"/campus-mike-n-running-shoes-men/p/itm8f7228d1e224c?pid=SHOG2EYZKZDFCNRK&amp;lid=LSTSHOG2EYZKZDFCNRK8WHGQK&amp;marketplace=FLIPKART&amp;q=shoes&amp;store=osp&amp;srno=s_1_2&amp;otracker=search&amp;otracker1=search&amp;fm=organic&amp;iid=en_uwXGejsewNz-EioRYD0u8AXDHquzeH9aKUKZWulhlg7V9hDQETD2mlw7ulDm2r9yrbr5e0z4A2PZ4j5JbdcMvg%3D%3D&amp;ppt=None&amp;ppn=None&amp;ssid=uyvcj74o7k0000001708147129038&amp;qH=b0a8b6f820479900\" rel=\"noopener noreferrer\" target=\"_blank\"><div><div><div class=\"_3ywSr_\" style=\"padding-top:120.00%\"><div class=\"_312yBx SFzpgZ\" style=\"padding-top:120.00%\"><img alt=\"\" class=\"_2r_T1I\" src=\"https://rukminim2.flixcart.com/image/612/612/xif0q/shoe/r/a/o/-original-imagsn6p2dzrc6zy.jpeg?q=70\"/></div></div></div></div><div class=\"_3kGRXm\" style=\"bottom:4px\"></div><div class=\"_2hVSre _1DmLJ5 -o7Q4n\"><div class=\"_36FSn5\"><svg class=\"_1l0elc\" height=\"28\" viewbox=\"0 0 20 16\" width=\"28\" xmlns=\"http://www.w3.org/2000/svg\"><path class=\"eX72wL\" d=\"M8.695 16.682C4.06 12.382 1 9.536 1 6.065 1 3.219 3.178 1 5.95 1c1.566 0 3.069.746 4.05 1.915C10.981 1.745 12.484 1 14.05 1 16.822 1 19 3.22 19 6.065c0 3.471-3.06 6.316-7.695 10.617L10 17.897l-1.305-1.215z\" fill=\"#2874F0\" fill-rule=\"evenodd\" opacity=\".9\" stroke=\"#FFF\"></path></svg></div></div></a>,\n",
       " <a class=\"_2UzuFa\" href=\"/campus-mike-n-running-shoes-men/p/itm8f7228d1e224c?pid=SHOG2EYZKZPKF2RM&amp;lid=LSTSHOG2EYZKZPKF2RM1XV0WJ&amp;marketplace=FLIPKART&amp;q=shoes&amp;store=osp&amp;srno=s_1_3&amp;otracker=search&amp;otracker1=search&amp;fm=organic&amp;iid=57add2d6-256e-4b96-8f3d-3aee12711452.SHOG2EYZKZPKF2RM.SEARCH&amp;ppt=None&amp;ppn=None&amp;ssid=uyvcj74o7k0000001708147129038&amp;qH=b0a8b6f820479900\" rel=\"noopener noreferrer\" target=\"_blank\"><div><div><div class=\"_3ywSr_\" style=\"padding-top:120.00%\"><div class=\"_312yBx SFzpgZ\" style=\"padding-top:120.00%\"><img alt=\"\" class=\"_2r_T1I\" src=\"https://rukminim2.flixcart.com/image/612/612/xif0q/shoe/r/a/o/-original-imagsn6p2dzrc6zy.jpeg?q=70\"/></div></div></div></div><div class=\"_3kGRXm\" style=\"bottom:4px\"></div><div class=\"_2hVSre _1DmLJ5 -o7Q4n\"><div class=\"_36FSn5\"><svg class=\"_1l0elc\" height=\"28\" viewbox=\"0 0 20 16\" width=\"28\" xmlns=\"http://www.w3.org/2000/svg\"><path class=\"eX72wL\" d=\"M8.695 16.682C4.06 12.382 1 9.536 1 6.065 1 3.219 3.178 1 5.95 1c1.566 0 3.069.746 4.05 1.915C10.981 1.745 12.484 1 14.05 1 16.822 1 19 3.22 19 6.065c0 3.471-3.06 6.316-7.695 10.617L10 17.897l-1.305-1.215z\" fill=\"#2874F0\" fill-rule=\"evenodd\" opacity=\".9\" stroke=\"#FFF\"></path></svg></div></div></a>,\n",
       " <a class=\"_2UzuFa\" href=\"/bata-lace-up-men/p/itm3b2932e178316?pid=SHOGJSA4K9ZXGF2D&amp;lid=LSTSHOGJSA4K9ZXGF2DFJ5FKL&amp;marketplace=FLIPKART&amp;q=shoes&amp;store=osp&amp;spotlightTagId=BestsellerId_osp&amp;srno=s_1_4&amp;otracker=search&amp;otracker1=search&amp;fm=organic&amp;iid=57add2d6-256e-4b96-8f3d-3aee12711452.SHOGJSA4K9ZXGF2D.SEARCH&amp;ppt=None&amp;ppn=None&amp;ssid=uyvcj74o7k0000001708147129038&amp;qH=b0a8b6f820479900\" rel=\"noopener noreferrer\" target=\"_blank\"><div><div><div class=\"_3ywSr_\" style=\"padding-top:120.00%\"><div class=\"_312yBx SFzpgZ\" style=\"padding-top:120.00%\"><img alt=\"\" class=\"_2r_T1I\" src=\"https://rukminim2.flixcart.com/image/612/612/xif0q/shoe/o/m/y/-original-imagzry3gugpvqty.jpeg?q=70\"/></div></div></div></div><div class=\"_3kGRXm\" style=\"bottom:4px\"></div><div></div><div class=\"_2hVSre _1DmLJ5 -o7Q4n\"><div class=\"_36FSn5\"><svg class=\"_1l0elc\" height=\"28\" viewbox=\"0 0 20 16\" width=\"28\" xmlns=\"http://www.w3.org/2000/svg\"><path class=\"eX72wL\" d=\"M8.695 16.682C4.06 12.382 1 9.536 1 6.065 1 3.219 3.178 1 5.95 1c1.566 0 3.069.746 4.05 1.915C10.981 1.745 12.484 1 14.05 1 16.822 1 19 3.22 19 6.065c0 3.471-3.06 6.316-7.695 10.617L10 17.897l-1.305-1.215z\" fill=\"#2874F0\" fill-rule=\"evenodd\" opacity=\".9\" stroke=\"#FFF\"></path></svg></div></div></a>,\n",
       " <a class=\"_2UzuFa\" href=\"/red-tape-casual-lifestyle-shoes-men-soft-cushioned-insole-slip-resistance-sneakers/p/itm18efd555d4f7d?pid=SHOGXHDS8EG96RHG&amp;lid=LSTSHOGXHDS8EG96RHGC3E5NX&amp;marketplace=FLIPKART&amp;q=shoes&amp;store=osp&amp;srno=s_1_5&amp;otracker=search&amp;otracker1=search&amp;fm=organic&amp;iid=57add2d6-256e-4b96-8f3d-3aee12711452.SHOGXHDS8EG96RHG.SEARCH&amp;ppt=None&amp;ppn=None&amp;ssid=uyvcj74o7k0000001708147129038&amp;qH=b0a8b6f820479900\" rel=\"noopener noreferrer\" target=\"_blank\"><div><div><div class=\"_3ywSr_\" style=\"padding-top:120.00%\"><div class=\"_312yBx SFzpgZ\" style=\"padding-top:120.00%\"><img alt=\"\" class=\"_2r_T1I\" src=\"https://rukminim2.flixcart.com/image/612/612/xif0q/shoe/w/h/n/10-rsl021-red-tape-white-navy-original-imagxhdqhjrduw6c.jpeg?q=70\"/></div></div></div></div><div class=\"_3kGRXm\" style=\"bottom:4px\"></div><div class=\"_2hVSre _1DmLJ5 -o7Q4n\"><div class=\"_36FSn5\"><svg class=\"_1l0elc\" height=\"28\" viewbox=\"0 0 20 16\" width=\"28\" xmlns=\"http://www.w3.org/2000/svg\"><path class=\"eX72wL\" d=\"M8.695 16.682C4.06 12.382 1 9.536 1 6.065 1 3.219 3.178 1 5.95 1c1.566 0 3.069.746 4.05 1.915C10.981 1.745 12.484 1 14.05 1 16.822 1 19 3.22 19 6.065c0 3.471-3.06 6.316-7.695 10.617L10 17.897l-1.305-1.215z\" fill=\"#2874F0\" fill-rule=\"evenodd\" opacity=\".9\" stroke=\"#FFF\"></path></svg></div></div></a>,\n",
       " <a class=\"_2UzuFa\" href=\"/campus-mike-n-running-shoes-men/p/itm27c989f1e20c6?pid=SHOG4G3XXA5GHCY7&amp;lid=LSTSHOG4G3XXA5GHCY78VXSJN&amp;marketplace=FLIPKART&amp;q=shoes&amp;store=osp&amp;srno=s_1_6&amp;otracker=search&amp;otracker1=search&amp;fm=organic&amp;iid=57add2d6-256e-4b96-8f3d-3aee12711452.SHOG4G3XXA5GHCY7.SEARCH&amp;ppt=None&amp;ppn=None&amp;ssid=uyvcj74o7k0000001708147129038&amp;qH=b0a8b6f820479900\" rel=\"noopener noreferrer\" target=\"_blank\"><div><div><div class=\"_3ywSr_\" style=\"padding-top:120.00%\"><div class=\"_312yBx SFzpgZ\" style=\"padding-top:120.00%\"><img alt=\"\" class=\"_2r_T1I\" src=\"https://rukminim2.flixcart.com/image/612/612/xif0q/shoe/d/o/e/9-5g-845-campus-mod-blu-wht-original-imag4g3xnanhz7zk-bb.jpeg?q=70\"/></div></div></div></div><div class=\"_3kGRXm\" style=\"bottom:4px\"></div><div class=\"_2hVSre _1DmLJ5 -o7Q4n\"><div class=\"_36FSn5\"><svg class=\"_1l0elc\" height=\"28\" viewbox=\"0 0 20 16\" width=\"28\" xmlns=\"http://www.w3.org/2000/svg\"><path class=\"eX72wL\" d=\"M8.695 16.682C4.06 12.382 1 9.536 1 6.065 1 3.219 3.178 1 5.95 1c1.566 0 3.069.746 4.05 1.915C10.981 1.745 12.484 1 14.05 1 16.822 1 19 3.22 19 6.065c0 3.471-3.06 6.316-7.695 10.617L10 17.897l-1.305-1.215z\" fill=\"#2874F0\" fill-rule=\"evenodd\" opacity=\".9\" stroke=\"#FFF\"></path></svg></div></div></a>,\n",
       " <a class=\"_2UzuFa\" href=\"/campus-terminator-n-running-shoes-men/p/itm29ac3efb0d51d?pid=SHOG2QYYETQHYQHC&amp;lid=LSTSHOG2QYYETQHYQHCU7F7GR&amp;marketplace=FLIPKART&amp;q=shoes&amp;store=osp&amp;srno=s_1_7&amp;otracker=search&amp;otracker1=search&amp;fm=organic&amp;iid=en_uwXGejsewNz-EioRYD0u8AXDHquzeH9aKUKZWulhlg7HL4RedIgWGBKJWLDGpzYrPHIvGsGsBvnQkw7Il-T0devN4Mn-dv-pi277bRzMbnY%3D&amp;ppt=None&amp;ppn=None&amp;ssid=uyvcj74o7k0000001708147129038&amp;qH=b0a8b6f820479900\" rel=\"noopener noreferrer\" target=\"_blank\"><div><div><div class=\"_3ywSr_\" style=\"padding-top:120.00%\"><div class=\"_312yBx SFzpgZ\" style=\"padding-top:120.00%\"><img alt=\"\" class=\"_2r_T1I\" src=\"https://rukminim2.flixcart.com/image/612/612/xif0q/shoe/t/v/2/9-5g-846-9-campus-gry-d-gry-original-imagqtk9h7gzxqc5.jpeg?q=70\"/></div></div></div></div><div class=\"_3kGRXm\" style=\"bottom:4px\"></div><div class=\"_2hVSre _1DmLJ5 -o7Q4n\"><div class=\"_36FSn5\"><svg class=\"_1l0elc\" height=\"28\" viewbox=\"0 0 20 16\" width=\"28\" xmlns=\"http://www.w3.org/2000/svg\"><path class=\"eX72wL\" d=\"M8.695 16.682C4.06 12.382 1 9.536 1 6.065 1 3.219 3.178 1 5.95 1c1.566 0 3.069.746 4.05 1.915C10.981 1.745 12.484 1 14.05 1 16.822 1 19 3.22 19 6.065c0 3.471-3.06 6.316-7.695 10.617L10 17.897l-1.305-1.215z\" fill=\"#2874F0\" fill-rule=\"evenodd\" opacity=\".9\" stroke=\"#FFF\"></path></svg></div></div></a>,\n",
       " <a class=\"_2UzuFa\" href=\"/campus-zurik-pro-training-gym-shoes-men/p/itmeb2de26d0c6b5?pid=SHOGFG7WJHYEXU77&amp;lid=LSTSHOGFG7WJHYEXU77IQYZUT&amp;marketplace=FLIPKART&amp;q=shoes&amp;store=osp&amp;srno=s_1_8&amp;otracker=search&amp;otracker1=search&amp;fm=organic&amp;iid=en_uwXGejsewNz-EioRYD0u8AXDHquzeH9aKUKZWulhlg41giNn-t7q4uuGZd-3V1QzReLat_HV8hXj8Zk-U-MtS2aRs4JL222ZRV-dN99QnxU%3D&amp;ppt=None&amp;ppn=None&amp;ssid=uyvcj74o7k0000001708147129038&amp;qH=b0a8b6f820479900\" rel=\"noopener noreferrer\" target=\"_blank\"><div><div><div class=\"_3ywSr_\" style=\"padding-top:120.00%\"><div class=\"_312yBx SFzpgZ\" style=\"padding-top:120.00%\"><img alt=\"\" class=\"_2r_T1I\" src=\"https://rukminim2.flixcart.com/image/612/612/xif0q/shoe/g/u/f/8-11g-755-8-campus-moderate-blu-original-imagsfqfhyyj4hmg.jpeg?q=70\"/></div></div></div></div><div class=\"_3kGRXm\" style=\"bottom:4px\"></div><div class=\"_2hVSre _1DmLJ5 -o7Q4n\"><div class=\"_36FSn5\"><svg class=\"_1l0elc\" height=\"28\" viewbox=\"0 0 20 16\" width=\"28\" xmlns=\"http://www.w3.org/2000/svg\"><path class=\"eX72wL\" d=\"M8.695 16.682C4.06 12.382 1 9.536 1 6.065 1 3.219 3.178 1 5.95 1c1.566 0 3.069.746 4.05 1.915C10.981 1.745 12.484 1 14.05 1 16.822 1 19 3.22 19 6.065c0 3.471-3.06 6.316-7.695 10.617L10 17.897l-1.305-1.215z\" fill=\"#2874F0\" fill-rule=\"evenodd\" opacity=\".9\" stroke=\"#FFF\"></path></svg></div></div></a>,\n",
       " <a class=\"_2UzuFa\" href=\"/woodland-outdoors-men/p/itm146ea77604dd6?pid=SHOGWHEVBUAXNXGX&amp;lid=LSTSHOGWHEVBUAXNXGXYHUZHG&amp;marketplace=FLIPKART&amp;q=shoes&amp;store=osp&amp;srno=s_1_9&amp;otracker=search&amp;otracker1=search&amp;fm=organic&amp;iid=57add2d6-256e-4b96-8f3d-3aee12711452.SHOGWHEVBUAXNXGX.SEARCH&amp;ppt=None&amp;ppn=None&amp;ssid=uyvcj74o7k0000001708147129038&amp;qH=b0a8b6f820479900\" rel=\"noopener noreferrer\" target=\"_blank\"><div><div><div class=\"_3ywSr_\" style=\"padding-top:120.00%\"><div class=\"_312yBx SFzpgZ\" style=\"padding-top:120.00%\"><img alt=\"\" class=\"_2r_T1I\" src=\"https://rukminim2.flixcart.com/image/612/612/xif0q/shoe/e/f/x/6-bl22109-2-40-woodland-black-original-imagxm4rwvkzzj4n.jpeg?q=70\"/></div></div></div></div><div class=\"_3kGRXm\" style=\"bottom:4px\"></div><div class=\"_2hVSre _1DmLJ5 -o7Q4n\"><div class=\"_36FSn5\"><svg class=\"_1l0elc\" height=\"28\" viewbox=\"0 0 20 16\" width=\"28\" xmlns=\"http://www.w3.org/2000/svg\"><path class=\"eX72wL\" d=\"M8.695 16.682C4.06 12.382 1 9.536 1 6.065 1 3.219 3.178 1 5.95 1c1.566 0 3.069.746 4.05 1.915C10.981 1.745 12.484 1 14.05 1 16.822 1 19 3.22 19 6.065c0 3.471-3.06 6.316-7.695 10.617L10 17.897l-1.305-1.215z\" fill=\"#2874F0\" fill-rule=\"evenodd\" opacity=\".9\" stroke=\"#FFF\"></path></svg></div></div></a>,\n",
       " <a class=\"_2UzuFa\" href=\"/bata-slip-men/p/itm5bcdfaec0686f?pid=SHOGGZ6TRPTHHBBK&amp;lid=LSTSHOGGZ6TRPTHHBBKYZLCLQ&amp;marketplace=FLIPKART&amp;q=shoes&amp;store=osp&amp;srno=s_1_10&amp;otracker=search&amp;otracker1=search&amp;fm=organic&amp;iid=57add2d6-256e-4b96-8f3d-3aee12711452.SHOGGZ6TRPTHHBBK.SEARCH&amp;ppt=None&amp;ppn=None&amp;ssid=uyvcj74o7k0000001708147129038&amp;qH=b0a8b6f820479900\" rel=\"noopener noreferrer\" target=\"_blank\"><div><div><div class=\"_3ywSr_\" style=\"padding-top:120.00%\"><div class=\"_312yBx SFzpgZ\" style=\"padding-top:120.00%\"><img alt=\"\" class=\"_2r_T1I\" src=\"https://rukminim2.flixcart.com/image/612/612/xif0q/shoe/j/i/y/-original-imagsfdwgh8xdjzv.jpeg?q=70\"/></div></div></div></div><div class=\"_3kGRXm\" style=\"bottom:4px\"></div><div class=\"_2hVSre _1DmLJ5 -o7Q4n\"><div class=\"_36FSn5\"><svg class=\"_1l0elc\" height=\"28\" viewbox=\"0 0 20 16\" width=\"28\" xmlns=\"http://www.w3.org/2000/svg\"><path class=\"eX72wL\" d=\"M8.695 16.682C4.06 12.382 1 9.536 1 6.065 1 3.219 3.178 1 5.95 1c1.566 0 3.069.746 4.05 1.915C10.981 1.745 12.484 1 14.05 1 16.822 1 19 3.22 19 6.065c0 3.471-3.06 6.316-7.695 10.617L10 17.897l-1.305-1.215z\" fill=\"#2874F0\" fill-rule=\"evenodd\" opacity=\".9\" stroke=\"#FFF\"></path></svg></div></div></a>,\n",
       " <a class=\"_2UzuFa\" href=\"/puma-caven-sneakers-men/p/itm7af93d1e1bde0?pid=SHOFZG4FXNSBXEKF&amp;lid=LSTSHOFZG4FXNSBXEKFL31WO7&amp;marketplace=FLIPKART&amp;q=shoes&amp;store=osp&amp;srno=s_1_11&amp;otracker=search&amp;otracker1=search&amp;fm=organic&amp;iid=en_uwXGejsewNz-EioRYD0u8AXDHquzeH9aKUKZWulhlg4D3Aql2CM4G2gNMcwxx-k4VzQPjt3tJOmiUKbfMBu0Da8iqbiwhGf4dwbXVx7ZSks%3D&amp;ppt=None&amp;ppn=None&amp;ssid=uyvcj74o7k0000001708147129038&amp;qH=b0a8b6f820479900\" rel=\"noopener noreferrer\" target=\"_blank\"><div><div><div class=\"_3ywSr_\" style=\"padding-top:120.00%\"><div class=\"_312yBx SFzpgZ\" style=\"padding-top:120.00%\"><img alt=\"\" class=\"_2r_T1I\" src=\"https://rukminim2.flixcart.com/image/612/612/krdtlzk0/shoe/u/4/0/6-380810-6-puma-white-gray-violet-original-imag56khgkerfgfp.jpeg?q=70\"/></div></div></div></div><div class=\"_3kGRXm\" style=\"bottom:4px\"></div><div class=\"_2hVSre _1DmLJ5 -o7Q4n\"><div class=\"_36FSn5\"><svg class=\"_1l0elc\" height=\"28\" viewbox=\"0 0 20 16\" width=\"28\" xmlns=\"http://www.w3.org/2000/svg\"><path class=\"eX72wL\" d=\"M8.695 16.682C4.06 12.382 1 9.536 1 6.065 1 3.219 3.178 1 5.95 1c1.566 0 3.069.746 4.05 1.915C10.981 1.745 12.484 1 14.05 1 16.822 1 19 3.22 19 6.065c0 3.471-3.06 6.316-7.695 10.617L10 17.897l-1.305-1.215z\" fill=\"#2874F0\" fill-rule=\"evenodd\" opacity=\".9\" stroke=\"#FFF\"></path></svg></div></div></a>,\n",
       " <a class=\"_2UzuFa\" href=\"/campus-cristy-walking-shoes-women/p/itm49f603b5ba713?pid=SHOFVUFFBAX2EBUG&amp;lid=LSTSHOFVUFFBAX2EBUGPCQX8C&amp;marketplace=FLIPKART&amp;q=shoes&amp;store=osp&amp;srno=s_1_12&amp;otracker=search&amp;otracker1=search&amp;fm=organic&amp;iid=en_uwXGejsewNz-EioRYD0u8AXDHquzeH9aKUKZWulhlg4XbNYtFbw7Khy1X4bBF-hsbg_uqvKnQg45k5fzJe4-C_KSJvID5C-RdFfAlzwDiqI%3D&amp;ppt=None&amp;ppn=None&amp;ssid=uyvcj74o7k0000001708147129038&amp;qH=b0a8b6f820479900\" rel=\"noopener noreferrer\" target=\"_blank\"><div><div><div class=\"_3ywSr_\" style=\"padding-top:120.00%\"><div class=\"_312yBx SFzpgZ\" style=\"padding-top:120.00%\"><img alt=\"\" class=\"_2r_T1I\" src=\"https://rukminim2.flixcart.com/image/612/612/xif0q/shoe/1/q/s/4-9g-166-4-campus-blk-rani-original-imagzr5xmytmjsnt.jpeg?q=70\"/></div></div></div></div><div class=\"_3kGRXm\" style=\"bottom:4px\"></div><div class=\"_2hVSre _1DmLJ5 -o7Q4n\"><div class=\"_36FSn5\"><svg class=\"_1l0elc\" height=\"28\" viewbox=\"0 0 20 16\" width=\"28\" xmlns=\"http://www.w3.org/2000/svg\"><path class=\"eX72wL\" d=\"M8.695 16.682C4.06 12.382 1 9.536 1 6.065 1 3.219 3.178 1 5.95 1c1.566 0 3.069.746 4.05 1.915C10.981 1.745 12.484 1 14.05 1 16.822 1 19 3.22 19 6.065c0 3.471-3.06 6.316-7.695 10.617L10 17.897l-1.305-1.215z\" fill=\"#2874F0\" fill-rule=\"evenodd\" opacity=\".9\" stroke=\"#FFF\"></path></svg></div></div></a>,\n",
       " <a class=\"_2UzuFa\" href=\"/campus-hurricane-running-shoes-men/p/itm4d0125d9c2c65?pid=SHOG6BNGA9EQANTG&amp;lid=LSTSHOG6BNGA9EQANTG5U0G96&amp;marketplace=FLIPKART&amp;q=shoes&amp;store=osp&amp;srno=s_1_13&amp;otracker=search&amp;otracker1=search&amp;fm=organic&amp;iid=57add2d6-256e-4b96-8f3d-3aee12711452.SHOG6BNGA9EQANTG.SEARCH&amp;ppt=None&amp;ppn=None&amp;ssid=uyvcj74o7k0000001708147129038&amp;qH=b0a8b6f820479900\" rel=\"noopener noreferrer\" target=\"_blank\"><div><div><div class=\"_3ywSr_\" style=\"padding-top:120.00%\"><div class=\"_312yBx SFzpgZ\" style=\"padding-top:120.00%\"><img alt=\"\" class=\"_2r_T1I\" src=\"https://rukminim2.flixcart.com/image/612/612/xif0q/shoe/w/k/g/7-6g-842-7-campus-bt-grn-blk-original-imagsfs46jdxt5cb.jpeg?q=70\"/></div></div></div></div><div class=\"_3kGRXm\" style=\"bottom:4px\"></div><div class=\"_2hVSre _1DmLJ5 -o7Q4n\"><div class=\"_36FSn5\"><svg class=\"_1l0elc\" height=\"28\" viewbox=\"0 0 20 16\" width=\"28\" xmlns=\"http://www.w3.org/2000/svg\"><path class=\"eX72wL\" d=\"M8.695 16.682C4.06 12.382 1 9.536 1 6.065 1 3.219 3.178 1 5.95 1c1.566 0 3.069.746 4.05 1.915C10.981 1.745 12.484 1 14.05 1 16.822 1 19 3.22 19 6.065c0 3.471-3.06 6.316-7.695 10.617L10 17.897l-1.305-1.215z\" fill=\"#2874F0\" fill-rule=\"evenodd\" opacity=\".9\" stroke=\"#FFF\"></path></svg></div></div></a>,\n",
       " <a class=\"_2UzuFa\" href=\"/red-tape-casual-lifestyle-shoes-men-soft-cushioned-insole-slip-resistance-sneakers/p/itm7b0e9775eb835?pid=SHOGXRN4NV4K2KQZ&amp;lid=LSTSHOGXRN4NV4K2KQZOJVEQ7&amp;marketplace=FLIPKART&amp;q=shoes&amp;store=osp&amp;srno=s_1_14&amp;otracker=search&amp;otracker1=search&amp;fm=organic&amp;iid=57add2d6-256e-4b96-8f3d-3aee12711452.SHOGXRN4NV4K2KQZ.SEARCH&amp;ppt=None&amp;ppn=None&amp;ssid=uyvcj74o7k0000001708147129038&amp;qH=b0a8b6f820479900\" rel=\"noopener noreferrer\" target=\"_blank\"><div><div><div class=\"_3ywSr_\" style=\"padding-top:120.00%\"><div class=\"_312yBx SFzpgZ\" style=\"padding-top:120.00%\"><img alt=\"\" class=\"_2r_T1I\" src=\"https://rukminim2.flixcart.com/image/612/612/xif0q/shoe/k/h/v/7-rsl021-red-tape-white-original-imagxrn4h2yqrten.jpeg?q=70\"/></div></div></div></div><div class=\"_3kGRXm\" style=\"bottom:4px\"></div><div class=\"_2hVSre _1DmLJ5 -o7Q4n\"><div class=\"_36FSn5\"><svg class=\"_1l0elc\" height=\"28\" viewbox=\"0 0 20 16\" width=\"28\" xmlns=\"http://www.w3.org/2000/svg\"><path class=\"eX72wL\" d=\"M8.695 16.682C4.06 12.382 1 9.536 1 6.065 1 3.219 3.178 1 5.95 1c1.566 0 3.069.746 4.05 1.915C10.981 1.745 12.484 1 14.05 1 16.822 1 19 3.22 19 6.065c0 3.471-3.06 6.316-7.695 10.617L10 17.897l-1.305-1.215z\" fill=\"#2874F0\" fill-rule=\"evenodd\" opacity=\".9\" stroke=\"#FFF\"></path></svg></div></div></a>,\n",
       " <a class=\"_2UzuFa\" href=\"/campus-hurricane-running-shoes-men/p/itm0ea6214ceab01?pid=SHOGB542KFFUWH2N&amp;lid=LSTSHOGB542KFFUWH2N5DAXFG&amp;marketplace=FLIPKART&amp;q=shoes&amp;store=osp&amp;srno=s_1_15&amp;otracker=search&amp;otracker1=search&amp;fm=organic&amp;iid=57add2d6-256e-4b96-8f3d-3aee12711452.SHOGB542KFFUWH2N.SEARCH&amp;ppt=None&amp;ppn=None&amp;ssid=uyvcj74o7k0000001708147129038&amp;qH=b0a8b6f820479900\" rel=\"noopener noreferrer\" target=\"_blank\"><div><div><div class=\"_3ywSr_\" style=\"padding-top:120.00%\"><div class=\"_312yBx SFzpgZ\" style=\"padding-top:120.00%\"><img alt=\"\" class=\"_2r_T1I\" src=\"https://rukminim2.flixcart.com/image/612/612/xif0q/shoe/h/s/f/-original-imagg4zjywhgf5km.jpeg?q=70\"/></div></div></div></div><div class=\"_3kGRXm\" style=\"bottom:4px\"></div><div class=\"_2hVSre _1DmLJ5 -o7Q4n\"><div class=\"_36FSn5\"><svg class=\"_1l0elc\" height=\"28\" viewbox=\"0 0 20 16\" width=\"28\" xmlns=\"http://www.w3.org/2000/svg\"><path class=\"eX72wL\" d=\"M8.695 16.682C4.06 12.382 1 9.536 1 6.065 1 3.219 3.178 1 5.95 1c1.566 0 3.069.746 4.05 1.915C10.981 1.745 12.484 1 14.05 1 16.822 1 19 3.22 19 6.065c0 3.471-3.06 6.316-7.695 10.617L10 17.897l-1.305-1.215z\" fill=\"#2874F0\" fill-rule=\"evenodd\" opacity=\".9\" stroke=\"#FFF\"></path></svg></div></div></a>,\n",
       " <a class=\"_2UzuFa\" href=\"/red-tape-casual-sneaker-shoes-men-soft-cushioned-insole-slip-resistance-sneakers/p/itm1e74f14165209?pid=SHOGTHJDJYFENNYZ&amp;lid=LSTSHOGTHJDJYFENNYZFYO1M0&amp;marketplace=FLIPKART&amp;q=shoes&amp;store=osp&amp;srno=s_1_16&amp;otracker=search&amp;otracker1=search&amp;fm=organic&amp;iid=57add2d6-256e-4b96-8f3d-3aee12711452.SHOGTHJDJYFENNYZ.SEARCH&amp;ppt=None&amp;ppn=None&amp;ssid=uyvcj74o7k0000001708147129038&amp;qH=b0a8b6f820479900\" rel=\"noopener noreferrer\" target=\"_blank\"><div><div><div class=\"_3ywSr_\" style=\"padding-top:120.00%\"><div class=\"_312yBx SFzpgZ\" style=\"padding-top:120.00%\"><img alt=\"\" class=\"_2r_T1I\" src=\"https://rukminim2.flixcart.com/image/612/612/xif0q/shoe/j/o/6/6-rsl030-red-tape-white-original-imagthjchwbvjhz2.jpeg?q=70\"/></div></div></div></div><div class=\"_3kGRXm\" style=\"bottom:4px\"></div><div class=\"_2hVSre _1DmLJ5 -o7Q4n\"><div class=\"_36FSn5\"><svg class=\"_1l0elc\" height=\"28\" viewbox=\"0 0 20 16\" width=\"28\" xmlns=\"http://www.w3.org/2000/svg\"><path class=\"eX72wL\" d=\"M8.695 16.682C4.06 12.382 1 9.536 1 6.065 1 3.219 3.178 1 5.95 1c1.566 0 3.069.746 4.05 1.915C10.981 1.745 12.484 1 14.05 1 16.822 1 19 3.22 19 6.065c0 3.471-3.06 6.316-7.695 10.617L10 17.897l-1.305-1.215z\" fill=\"#2874F0\" fill-rule=\"evenodd\" opacity=\".9\" stroke=\"#FFF\"></path></svg></div></div></a>,\n",
       " <a class=\"_2UzuFa\" href=\"/campus-refresh-pro-running-shoes-men/p/itmb6eb7fd6f39a3?pid=SHOFZG49P5GGPEAW&amp;lid=LSTSHOFZG49P5GGPEAWY8T2YT&amp;marketplace=FLIPKART&amp;q=shoes&amp;store=osp&amp;srno=s_1_17&amp;otracker=search&amp;otracker1=search&amp;fm=organic&amp;iid=en_uwXGejsewNz-EioRYD0u8AXDHquzeH9aKUKZWulhlg47pID8kLTwKiwZMB7N1eCNH_XYD3rXWeO1UJmiClPJEcsrgPW5YLzJU0_H6_RHKR0%3D&amp;ppt=None&amp;ppn=None&amp;ssid=uyvcj74o7k0000001708147129038&amp;qH=b0a8b6f820479900\" rel=\"noopener noreferrer\" target=\"_blank\"><div><div><div class=\"_3ywSr_\" style=\"padding-top:120.00%\"><div class=\"_312yBx SFzpgZ\" style=\"padding-top:120.00%\"><img alt=\"\" class=\"_2r_T1I\" src=\"https://rukminim2.flixcart.com/image/612/612/xif0q/shoe/o/c/3/-original-imagg6hyeq9qgagz.jpeg?q=70\"/></div></div></div></div><div class=\"_3kGRXm\" style=\"bottom:4px\"></div><div class=\"_2hVSre _1DmLJ5 -o7Q4n\"><div class=\"_36FSn5\"><svg class=\"_1l0elc\" height=\"28\" viewbox=\"0 0 20 16\" width=\"28\" xmlns=\"http://www.w3.org/2000/svg\"><path class=\"eX72wL\" d=\"M8.695 16.682C4.06 12.382 1 9.536 1 6.065 1 3.219 3.178 1 5.95 1c1.566 0 3.069.746 4.05 1.915C10.981 1.745 12.484 1 14.05 1 16.822 1 19 3.22 19 6.065c0 3.471-3.06 6.316-7.695 10.617L10 17.897l-1.305-1.215z\" fill=\"#2874F0\" fill-rule=\"evenodd\" opacity=\".9\" stroke=\"#FFF\"></path></svg></div></div></a>,\n",
       " <a class=\"_2UzuFa\" href=\"/campus-abacus-running-shoes-men/p/itm3bd0eac0afbbf?pid=SHOG6Z4752FAFUUE&amp;lid=LSTSHOG6Z4752FAFUUE4LA6Y7&amp;marketplace=FLIPKART&amp;q=shoes&amp;store=osp&amp;srno=s_1_18&amp;otracker=search&amp;otracker1=search&amp;fm=organic&amp;iid=en_uwXGejsewNz-EioRYD0u8AXDHquzeH9aKUKZWulhlg5PGVW2XmU9Sq7KMZwwF9n8ehuJqa0aA2281fW_yTm_3sDbPjpExlWhmpgUQnOg2ao%3D&amp;ppt=None&amp;ppn=None&amp;ssid=uyvcj74o7k0000001708147129038&amp;qH=b0a8b6f820479900\" rel=\"noopener noreferrer\" target=\"_blank\"><div><div><div class=\"_3ywSr_\" style=\"padding-top:120.00%\"><div class=\"_312yBx SFzpgZ\" style=\"padding-top:120.00%\"><img alt=\"\" class=\"_2r_T1I\" src=\"https://rukminim2.flixcart.com/image/612/612/xif0q/shoe/3/t/d/-original-imagqfwch3sz4gbt.jpeg?q=70\"/></div></div></div></div><div class=\"_3kGRXm\" style=\"bottom:4px\"></div><div class=\"_2hVSre _1DmLJ5 -o7Q4n\"><div class=\"_36FSn5\"><svg class=\"_1l0elc\" height=\"28\" viewbox=\"0 0 20 16\" width=\"28\" xmlns=\"http://www.w3.org/2000/svg\"><path class=\"eX72wL\" d=\"M8.695 16.682C4.06 12.382 1 9.536 1 6.065 1 3.219 3.178 1 5.95 1c1.566 0 3.069.746 4.05 1.915C10.981 1.745 12.484 1 14.05 1 16.822 1 19 3.22 19 6.065c0 3.471-3.06 6.316-7.695 10.617L10 17.897l-1.305-1.215z\" fill=\"#2874F0\" fill-rule=\"evenodd\" opacity=\".9\" stroke=\"#FFF\"></path></svg></div></div></a>,\n",
       " <a class=\"_2UzuFa\" href=\"/red-tape-sports-walking-shoes-men-soft-cushioned-insole-slip-resistance/p/itm6ec5f006afe16?pid=SHOGUGMHHJWYWNYM&amp;lid=LSTSHOGUGMHHJWYWNYMHWETWO&amp;marketplace=FLIPKART&amp;q=shoes&amp;store=osp&amp;srno=s_1_19&amp;otracker=search&amp;otracker1=search&amp;fm=organic&amp;iid=57add2d6-256e-4b96-8f3d-3aee12711452.SHOGUGMHHJWYWNYM.SEARCH&amp;ppt=None&amp;ppn=None&amp;ssid=uyvcj74o7k0000001708147129038&amp;qH=b0a8b6f820479900\" rel=\"noopener noreferrer\" target=\"_blank\"><div><div><div class=\"_3ywSr_\" style=\"padding-top:120.00%\"><div class=\"_312yBx SFzpgZ\" style=\"padding-top:120.00%\"><img alt=\"\" class=\"_2r_T1I\" src=\"https://rukminim2.flixcart.com/image/612/612/xif0q/shoe/1/5/m/6-rso342-red-tape-white-blue-original-imagugm5h6mxypgk.jpeg?q=70\"/></div></div></div></div><div class=\"_3kGRXm\" style=\"bottom:4px\"></div><div class=\"_2hVSre _1DmLJ5 -o7Q4n\"><div class=\"_36FSn5\"><svg class=\"_1l0elc\" height=\"28\" viewbox=\"0 0 20 16\" width=\"28\" xmlns=\"http://www.w3.org/2000/svg\"><path class=\"eX72wL\" d=\"M8.695 16.682C4.06 12.382 1 9.536 1 6.065 1 3.219 3.178 1 5.95 1c1.566 0 3.069.746 4.05 1.915C10.981 1.745 12.484 1 14.05 1 16.822 1 19 3.22 19 6.065c0 3.471-3.06 6.316-7.695 10.617L10 17.897l-1.305-1.215z\" fill=\"#2874F0\" fill-rule=\"evenodd\" opacity=\".9\" stroke=\"#FFF\"></path></svg></div></div></a>,\n",
       " <a class=\"_2UzuFa\" href=\"/woodland-outdoors-men/p/itm66b084219e99f?pid=SHOGWHEVFE3B6GWT&amp;lid=LSTSHOGWHEVFE3B6GWTPVMIF8&amp;marketplace=FLIPKART&amp;q=shoes&amp;store=osp&amp;srno=s_1_20&amp;otracker=search&amp;otracker1=search&amp;fm=organic&amp;iid=57add2d6-256e-4b96-8f3d-3aee12711452.SHOGWHEVFE3B6GWT.SEARCH&amp;ppt=None&amp;ppn=None&amp;ssid=uyvcj74o7k0000001708147129038&amp;qH=b0a8b6f820479900\" rel=\"noopener noreferrer\" target=\"_blank\"><div><div><div class=\"_3ywSr_\" style=\"padding-top:120.00%\"><div class=\"_312yBx SFzpgZ\" style=\"padding-top:120.00%\"><img alt=\"\" class=\"_2r_T1I\" src=\"https://rukminim2.flixcart.com/image/612/612/xif0q/shoe/m/w/c/6-bl22109-3-40-woodland-brown-original-imagxm4rekezk6fj.jpeg?q=70\"/></div></div></div></div><div class=\"_3kGRXm\" style=\"bottom:4px\"></div><div class=\"_2hVSre _1DmLJ5 -o7Q4n\"><div class=\"_36FSn5\"><svg class=\"_1l0elc\" height=\"28\" viewbox=\"0 0 20 16\" width=\"28\" xmlns=\"http://www.w3.org/2000/svg\"><path class=\"eX72wL\" d=\"M8.695 16.682C4.06 12.382 1 9.536 1 6.065 1 3.219 3.178 1 5.95 1c1.566 0 3.069.746 4.05 1.915C10.981 1.745 12.484 1 14.05 1 16.822 1 19 3.22 19 6.065c0 3.471-3.06 6.316-7.695 10.617L10 17.897l-1.305-1.215z\" fill=\"#2874F0\" fill-rule=\"evenodd\" opacity=\".9\" stroke=\"#FFF\"></path></svg></div></div></a>,\n",
       " <a class=\"_2UzuFa\" href=\"/campus-camp-kripto-running-shoes-men/p/itm5bfce69b47bcb?pid=SHOGBZ6S9DJZ27PE&amp;lid=LSTSHOGBZ6S9DJZ27PEU24ZJE&amp;marketplace=FLIPKART&amp;q=shoes&amp;store=osp&amp;srno=s_1_21&amp;otracker=search&amp;otracker1=search&amp;fm=organic&amp;iid=en_uwXGejsewNz-EioRYD0u8AXDHquzeH9aKUKZWulhlg7VOXbVuzyBbSJ6YmXKd3HjWHjEpm6z_PGXJFkQcZUfhmJMZAJirnjvZRqZ0WhE16A%3D&amp;ppt=None&amp;ppn=None&amp;ssid=uyvcj74o7k0000001708147129038&amp;qH=b0a8b6f820479900\" rel=\"noopener noreferrer\" target=\"_blank\"><div><div><div class=\"_3ywSr_\" style=\"padding-top:120.00%\"><div class=\"_312yBx SFzpgZ\" style=\"padding-top:120.00%\"><img alt=\"\" class=\"_2r_T1I\" src=\"https://rukminim2.flixcart.com/image/612/612/l046he80/shoe/u/k/o/9-22g-117-campus-wht-mstd-original-imagbz6rywfxsmms.jpeg?q=70\"/></div></div></div></div><div class=\"_3kGRXm\" style=\"bottom:4px\"></div><div class=\"_2hVSre _1DmLJ5 -o7Q4n\"><div class=\"_36FSn5\"><svg class=\"_1l0elc\" height=\"28\" viewbox=\"0 0 20 16\" width=\"28\" xmlns=\"http://www.w3.org/2000/svg\"><path class=\"eX72wL\" d=\"M8.695 16.682C4.06 12.382 1 9.536 1 6.065 1 3.219 3.178 1 5.95 1c1.566 0 3.069.746 4.05 1.915C10.981 1.745 12.484 1 14.05 1 16.822 1 19 3.22 19 6.065c0 3.471-3.06 6.316-7.695 10.617L10 17.897l-1.305-1.215z\" fill=\"#2874F0\" fill-rule=\"evenodd\" opacity=\".9\" stroke=\"#FFF\"></path></svg></div></div></a>,\n",
       " <a class=\"_2UzuFa\" href=\"/campus-camp-karl-training-gym-shoes-men/p/itmc0c98cdd03aaf?pid=SHOGHXHC8QBYNWZY&amp;lid=LSTSHOGHXHC8QBYNWZYDNDTSC&amp;marketplace=FLIPKART&amp;q=shoes&amp;store=osp&amp;srno=s_1_22&amp;otracker=search&amp;otracker1=search&amp;fm=organic&amp;iid=en_uwXGejsewNz-EioRYD0u8AXDHquzeH9aKUKZWulhlg5FuiaSRpWmAlTruz7R9TpCA8FnO2fpNiJ8VgMI15oRoiqhaHrzSI4OjvZa1DRoeKc%3D&amp;ppt=None&amp;ppn=None&amp;ssid=uyvcj74o7k0000001708147129038&amp;qH=b0a8b6f820479900\" rel=\"noopener noreferrer\" target=\"_blank\"><div><div><div class=\"_3ywSr_\" style=\"padding-top:120.00%\"><div class=\"_312yBx SFzpgZ\" style=\"padding-top:120.00%\"><img alt=\"\" class=\"_2r_T1I\" src=\"https://rukminim2.flixcart.com/image/612/612/xif0q/shoe/h/t/r/7-22g-148-campus-wht-blk-original-imaghxhbeympvxgp.jpeg?q=70\"/></div></div></div></div><div class=\"_3kGRXm\" style=\"bottom:4px\"></div><div class=\"_2hVSre _1DmLJ5 -o7Q4n\"><div class=\"_36FSn5\"><svg class=\"_1l0elc\" height=\"28\" viewbox=\"0 0 20 16\" width=\"28\" xmlns=\"http://www.w3.org/2000/svg\"><path class=\"eX72wL\" d=\"M8.695 16.682C4.06 12.382 1 9.536 1 6.065 1 3.219 3.178 1 5.95 1c1.566 0 3.069.746 4.05 1.915C10.981 1.745 12.484 1 14.05 1 16.822 1 19 3.22 19 6.065c0 3.471-3.06 6.316-7.695 10.617L10 17.897l-1.305-1.215z\" fill=\"#2874F0\" fill-rule=\"evenodd\" opacity=\".9\" stroke=\"#FFF\"></path></svg></div></div></a>,\n",
       " <a class=\"_2UzuFa\" href=\"/bata-loafers-men/p/itm5098a6327ebed?pid=SHOGGX4P6FEPGGGM&amp;lid=LSTSHOGGX4P6FEPGGGMYNAVVM&amp;marketplace=FLIPKART&amp;q=shoes&amp;store=osp&amp;srno=s_1_23&amp;otracker=search&amp;otracker1=search&amp;fm=organic&amp;iid=57add2d6-256e-4b96-8f3d-3aee12711452.SHOGGX4P6FEPGGGM.SEARCH&amp;ppt=None&amp;ppn=None&amp;ssid=uyvcj74o7k0000001708147129038&amp;qH=b0a8b6f820479900\" rel=\"noopener noreferrer\" target=\"_blank\"><div><div><div class=\"_3ywSr_\" style=\"padding-top:120.00%\"><div class=\"_312yBx SFzpgZ\" style=\"padding-top:120.00%\"><img alt=\"\" class=\"_2r_T1I\" src=\"https://rukminim2.flixcart.com/image/612/612/xif0q/shoe/m/y/a/-original-imaghhz3mzfrghf3.jpeg?q=70\"/></div></div></div></div><div class=\"_3kGRXm\" style=\"bottom:4px\"></div><div class=\"_2hVSre _1DmLJ5 -o7Q4n\"><div class=\"_36FSn5\"><svg class=\"_1l0elc\" height=\"28\" viewbox=\"0 0 20 16\" width=\"28\" xmlns=\"http://www.w3.org/2000/svg\"><path class=\"eX72wL\" d=\"M8.695 16.682C4.06 12.382 1 9.536 1 6.065 1 3.219 3.178 1 5.95 1c1.566 0 3.069.746 4.05 1.915C10.981 1.745 12.484 1 14.05 1 16.822 1 19 3.22 19 6.065c0 3.471-3.06 6.316-7.695 10.617L10 17.897l-1.305-1.215z\" fill=\"#2874F0\" fill-rule=\"evenodd\" opacity=\".9\" stroke=\"#FFF\"></path></svg></div></div></a>,\n",
       " <a class=\"_2UzuFa\" href=\"/red-tape-sneaker-casual-shoes-men-soft-cushion-insole-slip-resistance-sneakers/p/itm6541c550851e0?pid=SHOGQXVHY2CYMVXX&amp;lid=LSTSHOGQXVHY2CYMVXXZKYHXA&amp;marketplace=FLIPKART&amp;q=shoes&amp;store=osp&amp;srno=s_1_24&amp;otracker=search&amp;otracker1=search&amp;fm=organic&amp;iid=57add2d6-256e-4b96-8f3d-3aee12711452.SHOGQXVHY2CYMVXX.SEARCH&amp;ppt=None&amp;ppn=None&amp;ssid=uyvcj74o7k0000001708147129038&amp;qH=b0a8b6f820479900\" rel=\"noopener noreferrer\" target=\"_blank\"><div><div><div class=\"_3ywSr_\" style=\"padding-top:120.00%\"><div class=\"_312yBx SFzpgZ\" style=\"padding-top:120.00%\"><img alt=\"\" class=\"_2r_T1I\" src=\"https://rukminim2.flixcart.com/image/612/612/xif0q/shoe/n/3/o/9-rsl002-red-tape-black-red-original-imagqxvktt8z8zvp.jpeg?q=70\"/></div></div></div></div><div class=\"_3kGRXm\" style=\"bottom:4px\"></div><div class=\"_2hVSre _1DmLJ5 -o7Q4n\"><div class=\"_36FSn5\"><svg class=\"_1l0elc\" height=\"28\" viewbox=\"0 0 20 16\" width=\"28\" xmlns=\"http://www.w3.org/2000/svg\"><path class=\"eX72wL\" d=\"M8.695 16.682C4.06 12.382 1 9.536 1 6.065 1 3.219 3.178 1 5.95 1c1.566 0 3.069.746 4.05 1.915C10.981 1.745 12.484 1 14.05 1 16.822 1 19 3.22 19 6.065c0 3.471-3.06 6.316-7.695 10.617L10 17.897l-1.305-1.215z\" fill=\"#2874F0\" fill-rule=\"evenodd\" opacity=\".9\" stroke=\"#FFF\"></path></svg></div></div></a>,\n",
       " <a class=\"_2UzuFa\" href=\"/campus-stylish-comfirtable-shoes-mens-running-men/p/itm08f0ec4c15278?pid=SHOGANAAMWNRKNHC&amp;lid=LSTSHOGANAAMWNRKNHCUWP9Q9&amp;marketplace=FLIPKART&amp;q=shoes&amp;store=osp&amp;srno=s_1_25&amp;otracker=search&amp;otracker1=search&amp;fm=organic&amp;iid=57add2d6-256e-4b96-8f3d-3aee12711452.SHOGANAAMWNRKNHC.SEARCH&amp;ppt=None&amp;ppn=None&amp;ssid=uyvcj74o7k0000001708147129038&amp;qH=b0a8b6f820479900\" rel=\"noopener noreferrer\" target=\"_blank\"><div><div><div class=\"_3ywSr_\" style=\"padding-top:120.00%\"><div class=\"_312yBx SFzpgZ\" style=\"padding-top:120.00%\"><img alt=\"\" class=\"_2r_T1I\" src=\"https://rukminim2.flixcart.com/image/612/612/xif0q/shoe/e/u/r/9-22g-484-9-campus-blu-red-original-imagv3tyrahcndft.jpeg?q=70\"/></div></div></div></div><div class=\"_3kGRXm\" style=\"bottom:4px\"></div><div class=\"_2hVSre _1DmLJ5 -o7Q4n\"><div class=\"_36FSn5\"><svg class=\"_1l0elc\" height=\"28\" viewbox=\"0 0 20 16\" width=\"28\" xmlns=\"http://www.w3.org/2000/svg\"><path class=\"eX72wL\" d=\"M8.695 16.682C4.06 12.382 1 9.536 1 6.065 1 3.219 3.178 1 5.95 1c1.566 0 3.069.746 4.05 1.915C10.981 1.745 12.484 1 14.05 1 16.822 1 19 3.22 19 6.065c0 3.471-3.06 6.316-7.695 10.617L10 17.897l-1.305-1.215z\" fill=\"#2874F0\" fill-rule=\"evenodd\" opacity=\".9\" stroke=\"#FFF\"></path></svg></div></div></a>,\n",
       " <a class=\"_2UzuFa\" href=\"/bata-lace-up-men/p/itmcfcbfddde3f16?pid=SHOGGFFUGMQBJZQH&amp;lid=LSTSHOGGFFUGMQBJZQHN80IGB&amp;marketplace=FLIPKART&amp;q=shoes&amp;store=osp&amp;spotlightTagId=BestsellerId_osp&amp;srno=s_1_26&amp;otracker=search&amp;otracker1=search&amp;fm=organic&amp;iid=57add2d6-256e-4b96-8f3d-3aee12711452.SHOGGFFUGMQBJZQH.SEARCH&amp;ppt=None&amp;ppn=None&amp;ssid=uyvcj74o7k0000001708147129038&amp;qH=b0a8b6f820479900\" rel=\"noopener noreferrer\" target=\"_blank\"><div><div><div class=\"_3ywSr_\" style=\"padding-top:120.00%\"><div class=\"_312yBx SFzpgZ\" style=\"padding-top:120.00%\"><img alt=\"\" class=\"_2r_T1I\" src=\"https://rukminim2.flixcart.com/image/612/612/xif0q/shoe/o/q/u/-original-imagsfdvdwzhny53.jpeg?q=70\"/></div></div></div></div><div class=\"_3kGRXm\" style=\"bottom:4px\"></div><div></div><div class=\"_2hVSre _1DmLJ5 -o7Q4n\"><div class=\"_36FSn5\"><svg class=\"_1l0elc\" height=\"28\" viewbox=\"0 0 20 16\" width=\"28\" xmlns=\"http://www.w3.org/2000/svg\"><path class=\"eX72wL\" d=\"M8.695 16.682C4.06 12.382 1 9.536 1 6.065 1 3.219 3.178 1 5.95 1c1.566 0 3.069.746 4.05 1.915C10.981 1.745 12.484 1 14.05 1 16.822 1 19 3.22 19 6.065c0 3.471-3.06 6.316-7.695 10.617L10 17.897l-1.305-1.215z\" fill=\"#2874F0\" fill-rule=\"evenodd\" opacity=\".9\" stroke=\"#FFF\"></path></svg></div></div></a>,\n",
       " <a class=\"_2UzuFa\" href=\"/campus-alice-walking-shoes-women/p/itm3f242fd24c96b?pid=SHOFXNU8YFMKYFXH&amp;lid=LSTSHOFXNU8YFMKYFXH3CHZ8P&amp;marketplace=FLIPKART&amp;q=shoes&amp;store=osp&amp;srno=s_1_27&amp;otracker=search&amp;otracker1=search&amp;fm=organic&amp;iid=en_uwXGejsewNz-EioRYD0u8AXDHquzeH9aKUKZWulhlg4DhWvjbmajZwEXrgXhTrgyd6l1hN86UV-oYL7u4yXGq9mEaX_1OVaDgohoY5ZV-y8%3D&amp;ppt=None&amp;ppn=None&amp;ssid=uyvcj74o7k0000001708147129038&amp;qH=b0a8b6f820479900\" rel=\"noopener noreferrer\" target=\"_blank\"><div><div><div class=\"_3ywSr_\" style=\"padding-top:120.00%\"><div class=\"_312yBx SFzpgZ\" style=\"padding-top:120.00%\"><img alt=\"\" class=\"_2r_T1I\" src=\"https://rukminim2.flixcart.com/image/612/612/xif0q/shoe/x/s/i/-original-imagg5tw4efqmqhb.jpeg?q=70\"/></div></div></div></div><div class=\"_3kGRXm\" style=\"bottom:4px\"></div><div class=\"_2hVSre _1DmLJ5 -o7Q4n\"><div class=\"_36FSn5\"><svg class=\"_1l0elc\" height=\"28\" viewbox=\"0 0 20 16\" width=\"28\" xmlns=\"http://www.w3.org/2000/svg\"><path class=\"eX72wL\" d=\"M8.695 16.682C4.06 12.382 1 9.536 1 6.065 1 3.219 3.178 1 5.95 1c1.566 0 3.069.746 4.05 1.915C10.981 1.745 12.484 1 14.05 1 16.822 1 19 3.22 19 6.065c0 3.471-3.06 6.316-7.695 10.617L10 17.897l-1.305-1.215z\" fill=\"#2874F0\" fill-rule=\"evenodd\" opacity=\".9\" stroke=\"#FFF\"></path></svg></div></div></a>,\n",
       " <a class=\"_2UzuFa\" href=\"/campus-syrus-running-shoes-men/p/itmd1bc35a4bacdd?pid=SHOFU4T8FPYFZHHV&amp;lid=LSTSHOFU4T8FPYFZHHVZ4IZJA&amp;marketplace=FLIPKART&amp;q=shoes&amp;store=osp&amp;srno=s_1_28&amp;otracker=search&amp;otracker1=search&amp;fm=organic&amp;iid=en_uwXGejsewNz-EioRYD0u8AXDHquzeH9aKUKZWulhlg4PPq44MDFfhD_kLk9FUyLvnN7C7OLQrUrqhYV8G6HGD1hWlg14bXFG9tZ2S67Bqg0%3D&amp;ppt=None&amp;ppn=None&amp;ssid=uyvcj74o7k0000001708147129038&amp;qH=b0a8b6f820479900\" rel=\"noopener noreferrer\" target=\"_blank\"><div><div><div class=\"_3ywSr_\" style=\"padding-top:120.00%\"><div class=\"_312yBx SFzpgZ\" style=\"padding-top:120.00%\"><img alt=\"\" class=\"_2r_T1I\" src=\"https://rukminim2.flixcart.com/image/612/612/xif0q/shoe/n/s/0/-original-imagg7t27d7bksnh.jpeg?q=70\"/></div></div></div></div><div class=\"_3kGRXm\" style=\"bottom:4px\"></div><div class=\"_2hVSre _1DmLJ5 -o7Q4n\"><div class=\"_36FSn5\"><svg class=\"_1l0elc\" height=\"28\" viewbox=\"0 0 20 16\" width=\"28\" xmlns=\"http://www.w3.org/2000/svg\"><path class=\"eX72wL\" d=\"M8.695 16.682C4.06 12.382 1 9.536 1 6.065 1 3.219 3.178 1 5.95 1c1.566 0 3.069.746 4.05 1.915C10.981 1.745 12.484 1 14.05 1 16.822 1 19 3.22 19 6.065c0 3.471-3.06 6.316-7.695 10.617L10 17.897l-1.305-1.215z\" fill=\"#2874F0\" fill-rule=\"evenodd\" opacity=\".9\" stroke=\"#FFF\"></path></svg></div></div></a>,\n",
       " <a class=\"_2UzuFa\" href=\"/red-tape-sneaker-casual-shoes-men-soft-cushioned-insole-slip-resistance-sneakers/p/itmaf1bf605d60cd?pid=SHOGM827MGYK6VYS&amp;lid=LSTSHOGM827MGYK6VYSNFSXVA&amp;marketplace=FLIPKART&amp;q=shoes&amp;store=osp&amp;srno=s_1_29&amp;otracker=search&amp;otracker1=search&amp;fm=organic&amp;iid=57add2d6-256e-4b96-8f3d-3aee12711452.SHOGM827MGYK6VYS.SEARCH&amp;ppt=None&amp;ppn=None&amp;ssid=uyvcj74o7k0000001708147129038&amp;qH=b0a8b6f820479900\" rel=\"noopener noreferrer\" target=\"_blank\"><div><div><div class=\"_3ywSr_\" style=\"padding-top:120.00%\"><div class=\"_312yBx SFzpgZ\" style=\"padding-top:120.00%\"><img alt=\"\" class=\"_2r_T1I\" src=\"https://rukminim2.flixcart.com/image/612/612/xif0q/shoe/l/9/k/6-rso2775-6-red-tape-white-original-imagxffdqrw8pcqf.jpeg?q=70\"/></div></div></div></div><div class=\"_3kGRXm\" style=\"bottom:4px\"></div><div class=\"_2hVSre _1DmLJ5 -o7Q4n\"><div class=\"_36FSn5\"><svg class=\"_1l0elc\" height=\"28\" viewbox=\"0 0 20 16\" width=\"28\" xmlns=\"http://www.w3.org/2000/svg\"><path class=\"eX72wL\" d=\"M8.695 16.682C4.06 12.382 1 9.536 1 6.065 1 3.219 3.178 1 5.95 1c1.566 0 3.069.746 4.05 1.915C10.981 1.745 12.484 1 14.05 1 16.822 1 19 3.22 19 6.065c0 3.471-3.06 6.316-7.695 10.617L10 17.897l-1.305-1.215z\" fill=\"#2874F0\" fill-rule=\"evenodd\" opacity=\".9\" stroke=\"#FFF\"></path></svg></div></div></a>,\n",
       " <a class=\"_2UzuFa\" href=\"/woodland-casuals-men/p/itmc630d732ea3e8?pid=SHOGMRY2G4PBQBGM&amp;lid=LSTSHOGMRY2G4PBQBGMPYHWGE&amp;marketplace=FLIPKART&amp;q=shoes&amp;store=osp&amp;srno=s_1_30&amp;otracker=search&amp;otracker1=search&amp;fm=organic&amp;iid=57add2d6-256e-4b96-8f3d-3aee12711452.SHOGMRY2G4PBQBGM.SEARCH&amp;ppt=None&amp;ppn=None&amp;ssid=uyvcj74o7k0000001708147129038&amp;qH=b0a8b6f820479900\" rel=\"noopener noreferrer\" target=\"_blank\"><div><div><div class=\"_3ywSr_\" style=\"padding-top:120.00%\"><div class=\"_312yBx SFzpgZ\" style=\"padding-top:120.00%\"><img alt=\"\" class=\"_2r_T1I\" src=\"https://rukminim2.flixcart.com/image/612/612/xif0q/shoe/h/o/u/-original-imagudcehhhpqrjn.jpeg?q=70\"/></div></div></div></div><div class=\"_3kGRXm\" style=\"bottom:4px\"></div><div class=\"_2hVSre _1DmLJ5 -o7Q4n\"><div class=\"_36FSn5\"><svg class=\"_1l0elc\" height=\"28\" viewbox=\"0 0 20 16\" width=\"28\" xmlns=\"http://www.w3.org/2000/svg\"><path class=\"eX72wL\" d=\"M8.695 16.682C4.06 12.382 1 9.536 1 6.065 1 3.219 3.178 1 5.95 1c1.566 0 3.069.746 4.05 1.915C10.981 1.745 12.484 1 14.05 1 16.822 1 19 3.22 19 6.065c0 3.471-3.06 6.316-7.695 10.617L10 17.897l-1.305-1.215z\" fill=\"#2874F0\" fill-rule=\"evenodd\" opacity=\".9\" stroke=\"#FFF\"></path></svg></div></div></a>,\n",
       " <a class=\"_2UzuFa\" href=\"/adidas-tensuar-m2-running-shoes-men/p/itm3d6ad8f9ee1bb?pid=SHOGTHEKXSVUFZEA&amp;lid=LSTSHOGTHEKXSVUFZEAVZJMZS&amp;marketplace=FLIPKART&amp;q=shoes&amp;store=osp&amp;srno=s_1_31&amp;otracker=search&amp;otracker1=search&amp;fm=organic&amp;iid=en_uwXGejsewNz-EioRYD0u8AXDHquzeH9aKUKZWulhlg7RagmLxD5XeqCQ0OqgMfO3l7d6TFoFLotABA_xjSJ-2uo15S0a61Wzzbg3qNOknKY%3D&amp;ppt=None&amp;ppn=None&amp;ssid=uyvcj74o7k0000001708147129038&amp;qH=b0a8b6f820479900\" rel=\"noopener noreferrer\" target=\"_blank\"><div><div><div class=\"_3ywSr_\" style=\"padding-top:120.00%\"><div class=\"_312yBx SFzpgZ\" style=\"padding-top:120.00%\"><img alt=\"\" class=\"_2r_T1I\" src=\"https://rukminim2.flixcart.com/image/612/612/xif0q/shoe/q/u/s/-original-imagxvywbvxxjwy7.jpeg?q=70\"/></div></div></div></div><div class=\"_3kGRXm\" style=\"bottom:4px\"></div><div class=\"_2hVSre _1DmLJ5 -o7Q4n\"><div class=\"_36FSn5\"><svg class=\"_1l0elc\" height=\"28\" viewbox=\"0 0 20 16\" width=\"28\" xmlns=\"http://www.w3.org/2000/svg\"><path class=\"eX72wL\" d=\"M8.695 16.682C4.06 12.382 1 9.536 1 6.065 1 3.219 3.178 1 5.95 1c1.566 0 3.069.746 4.05 1.915C10.981 1.745 12.484 1 14.05 1 16.822 1 19 3.22 19 6.065c0 3.471-3.06 6.316-7.695 10.617L10 17.897l-1.305-1.215z\" fill=\"#2874F0\" fill-rule=\"evenodd\" opacity=\".9\" stroke=\"#FFF\"></path></svg></div></div></a>,\n",
       " <a class=\"_2UzuFa\" href=\"/campus-north-plus-running-shoes-men/p/itm9669687c56df2?pid=SHOFY4DPVU3WFYZE&amp;lid=LSTSHOFY4DPVU3WFYZEUF1WC3&amp;marketplace=FLIPKART&amp;q=shoes&amp;store=osp&amp;srno=s_1_32&amp;otracker=search&amp;otracker1=search&amp;fm=organic&amp;iid=en_uwXGejsewNz-EioRYD0u8AXDHquzeH9aKUKZWulhlg7J2oNBECmgnTZqVu9GaFZDz-4mEi5d3izsttDGFiK-973nN5BP0oUQf7sdSRT1im4%3D&amp;ppt=None&amp;ppn=None&amp;ssid=uyvcj74o7k0000001708147129038&amp;qH=b0a8b6f820479900\" rel=\"noopener noreferrer\" target=\"_blank\"><div><div><div class=\"_3ywSr_\" style=\"padding-top:120.00%\"><div class=\"_312yBx SFzpgZ\" style=\"padding-top:120.00%\"><img alt=\"\" class=\"_2r_T1I\" src=\"https://rukminim2.flixcart.com/image/612/612/xif0q/shoe/f/e/m/-original-imagg6rcqgg295jj.jpeg?q=70\"/></div></div></div></div><div class=\"_3kGRXm\" style=\"bottom:4px\"></div><div class=\"_2hVSre _1DmLJ5 -o7Q4n\"><div class=\"_36FSn5\"><svg class=\"_1l0elc\" height=\"28\" viewbox=\"0 0 20 16\" width=\"28\" xmlns=\"http://www.w3.org/2000/svg\"><path class=\"eX72wL\" d=\"M8.695 16.682C4.06 12.382 1 9.536 1 6.065 1 3.219 3.178 1 5.95 1c1.566 0 3.069.746 4.05 1.915C10.981 1.745 12.484 1 14.05 1 16.822 1 19 3.22 19 6.065c0 3.471-3.06 6.316-7.695 10.617L10 17.897l-1.305-1.215z\" fill=\"#2874F0\" fill-rule=\"evenodd\" opacity=\".9\" stroke=\"#FFF\"></path></svg></div></div></a>,\n",
       " <a class=\"_2UzuFa\" href=\"/campus-artemis-running-shoes-men/p/itm0b89c220173ed?pid=SHOG88MZAUSZTUKE&amp;lid=LSTSHOG88MZAUSZTUKEI8PZFM&amp;marketplace=FLIPKART&amp;q=shoes&amp;store=osp&amp;srno=s_1_33&amp;otracker=search&amp;otracker1=search&amp;fm=organic&amp;iid=57add2d6-256e-4b96-8f3d-3aee12711452.SHOG88MZAUSZTUKE.SEARCH&amp;ppt=None&amp;ppn=None&amp;ssid=uyvcj74o7k0000001708147129038&amp;qH=b0a8b6f820479900\" rel=\"noopener noreferrer\" target=\"_blank\"><div><div><div class=\"_3ywSr_\" style=\"padding-top:120.00%\"><div class=\"_312yBx SFzpgZ\" style=\"padding-top:120.00%\"><img alt=\"\" class=\"_2r_T1I\" src=\"https://rukminim2.flixcart.com/image/612/612/xif0q/shoe/u/h/t/-original-imagpb4zfgchj8ee.jpeg?q=70\"/></div></div></div></div><div class=\"_3kGRXm\" style=\"bottom:4px\"></div><div class=\"_2hVSre _1DmLJ5 -o7Q4n\"><div class=\"_36FSn5\"><svg class=\"_1l0elc\" height=\"28\" viewbox=\"0 0 20 16\" width=\"28\" xmlns=\"http://www.w3.org/2000/svg\"><path class=\"eX72wL\" d=\"M8.695 16.682C4.06 12.382 1 9.536 1 6.065 1 3.219 3.178 1 5.95 1c1.566 0 3.069.746 4.05 1.915C10.981 1.745 12.484 1 14.05 1 16.822 1 19 3.22 19 6.065c0 3.471-3.06 6.316-7.695 10.617L10 17.897l-1.305-1.215z\" fill=\"#2874F0\" fill-rule=\"evenodd\" opacity=\".9\" stroke=\"#FFF\"></path></svg></div></div></a>,\n",
       " <a class=\"_2UzuFa\" href=\"/campus-mike-n-running-shoes-men/p/itmf8ff8f65cc63f?pid=SHOG2EYZPCPDTR8T&amp;lid=LSTSHOG2EYZPCPDTR8TOWRDXU&amp;marketplace=FLIPKART&amp;q=shoes&amp;store=osp&amp;srno=s_1_34&amp;otracker=search&amp;otracker1=search&amp;fm=organic&amp;iid=57add2d6-256e-4b96-8f3d-3aee12711452.SHOG2EYZPCPDTR8T.SEARCH&amp;ppt=None&amp;ppn=None&amp;ssid=uyvcj74o7k0000001708147129038&amp;qH=b0a8b6f820479900\" rel=\"noopener noreferrer\" target=\"_blank\"><div><div><div class=\"_3ywSr_\" style=\"padding-top:120.00%\"><div class=\"_312yBx SFzpgZ\" style=\"padding-top:120.00%\"><img alt=\"\" class=\"_2r_T1I\" src=\"https://rukminim2.flixcart.com/image/612/612/xif0q/shoe/c/8/u/-original-imagsn6q3wzzdcfu.jpeg?q=70\"/></div></div></div></div><div class=\"_3kGRXm\" style=\"bottom:4px\"></div><div class=\"_2hVSre _1DmLJ5 -o7Q4n\"><div class=\"_36FSn5\"><svg class=\"_1l0elc\" height=\"28\" viewbox=\"0 0 20 16\" width=\"28\" xmlns=\"http://www.w3.org/2000/svg\"><path class=\"eX72wL\" d=\"M8.695 16.682C4.06 12.382 1 9.536 1 6.065 1 3.219 3.178 1 5.95 1c1.566 0 3.069.746 4.05 1.915C10.981 1.745 12.484 1 14.05 1 16.822 1 19 3.22 19 6.065c0 3.471-3.06 6.316-7.695 10.617L10 17.897l-1.305-1.215z\" fill=\"#2874F0\" fill-rule=\"evenodd\" opacity=\".9\" stroke=\"#FFF\"></path></svg></div></div></a>,\n",
       " <a class=\"_2UzuFa\" href=\"/campus-hurricane-running-shoes-men/p/itme55da032c2427?pid=SHOG6BNZC8R3RHAG&amp;lid=LSTSHOG6BNZC8R3RHAGPA5ZOQ&amp;marketplace=FLIPKART&amp;q=shoes&amp;store=osp&amp;srno=s_1_35&amp;otracker=search&amp;otracker1=search&amp;fm=organic&amp;iid=57add2d6-256e-4b96-8f3d-3aee12711452.SHOG6BNZC8R3RHAG.SEARCH&amp;ppt=None&amp;ppn=None&amp;ssid=uyvcj74o7k0000001708147129038&amp;qH=b0a8b6f820479900\" rel=\"noopener noreferrer\" target=\"_blank\"><div><div><div class=\"_3ywSr_\" style=\"padding-top:120.00%\"><div class=\"_312yBx SFzpgZ\" style=\"padding-top:120.00%\"><img alt=\"\" class=\"_2r_T1I\" src=\"https://rukminim2.flixcart.com/image/612/612/ktszgy80/shoe/z/f/p/10-6g-842-campus-navy-r-slate-original-imag726pkzgnzqnm.jpeg?q=70\"/></div></div></div></div><div class=\"_3kGRXm\" style=\"bottom:4px\"></div><div class=\"_2hVSre _1DmLJ5 -o7Q4n\"><div class=\"_36FSn5\"><svg class=\"_1l0elc\" height=\"28\" viewbox=\"0 0 20 16\" width=\"28\" xmlns=\"http://www.w3.org/2000/svg\"><path class=\"eX72wL\" d=\"M8.695 16.682C4.06 12.382 1 9.536 1 6.065 1 3.219 3.178 1 5.95 1c1.566 0 3.069.746 4.05 1.915C10.981 1.745 12.484 1 14.05 1 16.822 1 19 3.22 19 6.065c0 3.471-3.06 6.316-7.695 10.617L10 17.897l-1.305-1.215z\" fill=\"#2874F0\" fill-rule=\"evenodd\" opacity=\".9\" stroke=\"#FFF\"></path></svg></div></div></a>,\n",
       " <a class=\"_2UzuFa\" href=\"/campus-hurricane-running-shoes-men/p/itm2f045a1c43285?pid=SHOG6BNGYZD9HHXG&amp;lid=LSTSHOG6BNGYZD9HHXG0FZK2U&amp;marketplace=FLIPKART&amp;q=shoes&amp;store=osp&amp;srno=s_1_36&amp;otracker=search&amp;otracker1=search&amp;fm=organic&amp;iid=57add2d6-256e-4b96-8f3d-3aee12711452.SHOG6BNGYZD9HHXG.SEARCH&amp;ppt=None&amp;ppn=None&amp;ssid=uyvcj74o7k0000001708147129038&amp;qH=b0a8b6f820479900\" rel=\"noopener noreferrer\" target=\"_blank\"><div><div><div class=\"_3ywSr_\" style=\"padding-top:120.00%\"><div class=\"_312yBx SFzpgZ\" style=\"padding-top:120.00%\"><img alt=\"\" class=\"_2r_T1I\" src=\"https://rukminim2.flixcart.com/image/612/612/xif0q/shoe/i/m/a/-original-imags8uszqgstevk.jpeg?q=70\"/></div></div></div></div><div class=\"_3kGRXm\" style=\"bottom:4px\"></div><div class=\"_2hVSre _1DmLJ5 -o7Q4n\"><div class=\"_36FSn5\"><svg class=\"_1l0elc\" height=\"28\" viewbox=\"0 0 20 16\" width=\"28\" xmlns=\"http://www.w3.org/2000/svg\"><path class=\"eX72wL\" d=\"M8.695 16.682C4.06 12.382 1 9.536 1 6.065 1 3.219 3.178 1 5.95 1c1.566 0 3.069.746 4.05 1.915C10.981 1.745 12.484 1 14.05 1 16.822 1 19 3.22 19 6.065c0 3.471-3.06 6.316-7.695 10.617L10 17.897l-1.305-1.215z\" fill=\"#2874F0\" fill-rule=\"evenodd\" opacity=\".9\" stroke=\"#FFF\"></path></svg></div></div></a>,\n",
       " <a class=\"_2UzuFa\" href=\"/campus-simba-pro-training-gym-shoes-men/p/itmf2045212fb2f7?pid=SHOFY9YUNFGJRFBM&amp;lid=LSTSHOFY9YUNFGJRFBMZASA3Y&amp;marketplace=FLIPKART&amp;q=shoes&amp;store=osp&amp;srno=s_1_37&amp;otracker=search&amp;otracker1=search&amp;fm=organic&amp;iid=en_uwXGejsewNz-EioRYD0u8AXDHquzeH9aKUKZWulhlg5GX09wCEHLYtdFgJeR2RoANkPuYGjSvLaN4HRMHaDc8QAlvNo-tguW1XjLLiPm_o8%3D&amp;ppt=None&amp;ppn=None&amp;ssid=uyvcj74o7k0000001708147129038&amp;qH=b0a8b6f820479900\" rel=\"noopener noreferrer\" target=\"_blank\"><div><div><div class=\"_3ywSr_\" style=\"padding-top:120.00%\"><div class=\"_312yBx SFzpgZ\" style=\"padding-top:120.00%\"><img alt=\"\" class=\"_2r_T1I\" src=\"https://rukminim2.flixcart.com/image/612/612/xif0q/shoe/o/l/5/-original-imagg6repezxhhmh.jpeg?q=70\"/></div></div></div></div><div class=\"_3kGRXm\" style=\"bottom:4px\"></div><div class=\"_2hVSre _1DmLJ5 -o7Q4n\"><div class=\"_36FSn5\"><svg class=\"_1l0elc\" height=\"28\" viewbox=\"0 0 20 16\" width=\"28\" xmlns=\"http://www.w3.org/2000/svg\"><path class=\"eX72wL\" d=\"M8.695 16.682C4.06 12.382 1 9.536 1 6.065 1 3.219 3.178 1 5.95 1c1.566 0 3.069.746 4.05 1.915C10.981 1.745 12.484 1 14.05 1 16.822 1 19 3.22 19 6.065c0 3.471-3.06 6.316-7.695 10.617L10 17.897l-1.305-1.215z\" fill=\"#2874F0\" fill-rule=\"evenodd\" opacity=\".9\" stroke=\"#FFF\"></path></svg></div></div></a>,\n",
       " <a class=\"_2UzuFa\" href=\"/campus-first-running-shoes-men/p/itmdaffca3f7955e?pid=SHOGY8YXNFMFZUVR&amp;lid=LSTSHOGY8YXNFMFZUVREHAOJP&amp;marketplace=FLIPKART&amp;q=shoes&amp;store=osp&amp;srno=s_1_38&amp;otracker=search&amp;otracker1=search&amp;fm=organic&amp;iid=en_uwXGejsewNz-EioRYD0u8AXDHquzeH9aKUKZWulhlg70RFvWbVfD5W7-NulY_eF-rBuuDjUXAbAyxDED0XDiE1nKu_QkFD98oDn_xgTUm2M%3D&amp;ppt=None&amp;ppn=None&amp;ssid=uyvcj74o7k0000001708147129038&amp;qH=b0a8b6f820479900\" rel=\"noopener noreferrer\" target=\"_blank\"><div><div><div class=\"_3ywSr_\" style=\"padding-top:120.00%\"><div class=\"_312yBx SFzpgZ\" style=\"padding-top:120.00%\"><img alt=\"\" class=\"_2r_T1I\" src=\"https://rukminim2.flixcart.com/image/612/612/xif0q/shoe/m/o/q/6-11g-787-6-campus-l-gry-blk-original-imagr4hfdzjjupaq.jpeg?q=70\"/></div></div></div></div><div class=\"_3kGRXm\" style=\"bottom:4px\"></div><div class=\"_2hVSre _1DmLJ5 -o7Q4n\"><div class=\"_36FSn5\"><svg class=\"_1l0elc\" height=\"28\" viewbox=\"0 0 20 16\" width=\"28\" xmlns=\"http://www.w3.org/2000/svg\"><path class=\"eX72wL\" d=\"M8.695 16.682C4.06 12.382 1 9.536 1 6.065 1 3.219 3.178 1 5.95 1c1.566 0 3.069.746 4.05 1.915C10.981 1.745 12.484 1 14.05 1 16.822 1 19 3.22 19 6.065c0 3.471-3.06 6.316-7.695 10.617L10 17.897l-1.305-1.215z\" fill=\"#2874F0\" fill-rule=\"evenodd\" opacity=\".9\" stroke=\"#FFF\"></path></svg></div></div></a>,\n",
       " <a class=\"_2UzuFa\" href=\"/woodland-casuals-men/p/itmf3xjzuftgkdk8?pid=SHOFUXX7PXW6YPGG&amp;lid=LSTSHOFUXX7PXW6YPGGWF3CQT&amp;marketplace=FLIPKART&amp;q=shoes&amp;store=osp&amp;srno=s_1_39&amp;otracker=search&amp;otracker1=search&amp;fm=organic&amp;iid=57add2d6-256e-4b96-8f3d-3aee12711452.SHOFUXX7PXW6YPGG.SEARCH&amp;ppt=None&amp;ppn=None&amp;ssid=uyvcj74o7k0000001708147129038&amp;qH=b0a8b6f820479900\" rel=\"noopener noreferrer\" target=\"_blank\"><div><div><div class=\"_3ywSr_\" style=\"padding-top:120.00%\"><div class=\"_312yBx SFzpgZ\" style=\"padding-top:120.00%\"><img alt=\"\" class=\"_2r_T1I\" src=\"https://rukminim2.flixcart.com/image/612/612/xif0q/shoe/s/j/q/-original-imaggdfghhvfhdyq.jpeg?q=70\"/></div></div></div></div><div class=\"_3kGRXm\" style=\"bottom:4px\"></div><div class=\"_2hVSre _1DmLJ5 -o7Q4n\"><div class=\"_36FSn5\"><svg class=\"_1l0elc\" height=\"28\" viewbox=\"0 0 20 16\" width=\"28\" xmlns=\"http://www.w3.org/2000/svg\"><path class=\"eX72wL\" d=\"M8.695 16.682C4.06 12.382 1 9.536 1 6.065 1 3.219 3.178 1 5.95 1c1.566 0 3.069.746 4.05 1.915C10.981 1.745 12.484 1 14.05 1 16.822 1 19 3.22 19 6.065c0 3.471-3.06 6.316-7.695 10.617L10 17.897l-1.305-1.215z\" fill=\"#2874F0\" fill-rule=\"evenodd\" opacity=\".9\" stroke=\"#FFF\"></path></svg></div></div></a>,\n",
       " <a class=\"_2UzuFa\" href=\"/campus-first-running-shoes-men/p/itmafd353906016a?pid=SHOGFGMBJAAKU3WB&amp;lid=LSTSHOGFGMBJAAKU3WBLWIUSC&amp;marketplace=FLIPKART&amp;q=shoes&amp;store=osp&amp;srno=s_1_40&amp;otracker=search&amp;otracker1=search&amp;fm=organic&amp;iid=57add2d6-256e-4b96-8f3d-3aee12711452.SHOGFGMBJAAKU3WB.SEARCH&amp;ppt=None&amp;ppn=None&amp;ssid=uyvcj74o7k0000001708147129038&amp;qH=b0a8b6f820479900\" rel=\"noopener noreferrer\" target=\"_blank\"><div><div><div class=\"_3ywSr_\" style=\"padding-top:120.00%\"><div class=\"_312yBx SFzpgZ\" style=\"padding-top:120.00%\"><img alt=\"\" class=\"_2r_T1I\" src=\"https://rukminim2.flixcart.com/image/612/612/l4pxk7k0/shoe/2/d/t/13-22g-787-13-campus-wht-sil-b-org-original-imagfk4zhs2snfbn.jpeg?q=70\"/></div></div></div></div><div class=\"_3kGRXm\" style=\"bottom:4px\"></div><div class=\"_2hVSre _1DmLJ5 -o7Q4n\"><div class=\"_36FSn5\"><svg class=\"_1l0elc\" height=\"28\" viewbox=\"0 0 20 16\" width=\"28\" xmlns=\"http://www.w3.org/2000/svg\"><path class=\"eX72wL\" d=\"M8.695 16.682C4.06 12.382 1 9.536 1 6.065 1 3.219 3.178 1 5.95 1c1.566 0 3.069.746 4.05 1.915C10.981 1.745 12.484 1 14.05 1 16.822 1 19 3.22 19 6.065c0 3.471-3.06 6.316-7.695 10.617L10 17.897l-1.305-1.215z\" fill=\"#2874F0\" fill-rule=\"evenodd\" opacity=\".9\" stroke=\"#FFF\"></path></svg></div></div></a>]"
      ]
     },
     "execution_count": 20,
     "metadata": {},
     "output_type": "execute_result"
    }
   ],
   "source": [
    "result"
   ]
  },
  {
   "cell_type": "code",
   "execution_count": 21,
   "id": "4349bd72",
   "metadata": {},
   "outputs": [],
   "source": [
    "import re\n",
    "link=[]\n",
    "for i in result:\n",
    "    if i.has_attr(\"href\"):\n",
    "        #print(i['href'])\n",
    "        res=re.findall(r\"\\/.*\",i[\"href\"])\n",
    "        link.append(res[0])\n",
    "        "
   ]
  },
  {
   "cell_type": "code",
   "execution_count": null,
   "id": "8fcd5470",
   "metadata": {},
   "outputs": [],
   "source": []
  },
  {
   "cell_type": "code",
   "execution_count": 23,
   "id": "12629762",
   "metadata": {},
   "outputs": [],
   "source": [
    "links=[]\n",
    "for i in link:\n",
    "    k='https://www.flipkart.com'+i\n",
    "    page1=requests.get(k)\n",
    "    soup1=BeautifulSoup(page1.text)\n",
    "    links.append(soup1.find_all(\"span\",class_=\"B_NuCI\"))  \n",
    "    "
   ]
  },
  {
   "cell_type": "code",
   "execution_count": 24,
   "id": "4f8eba72",
   "metadata": {},
   "outputs": [
    {
     "data": {
      "text/plain": [
       "[[<span class=\"B_NuCI\">FIRST Running Shoes For Men<!-- -->  (White)</span>],\n",
       " [<span class=\"B_NuCI\">MIKE (N) Running Shoes For Men<!-- -->  (Black)</span>],\n",
       " [<span class=\"B_NuCI\">MIKE (N) Running Shoes For Men<!-- -->  (Black)</span>],\n",
       " [<span class=\"B_NuCI\">Lace Up For Men<!-- -->  (Black)</span>],\n",
       " [<span class=\"B_NuCI\">Casual Lifestyle Shoes for Men | Soft Cushioned Insole, Slip-Resistance Sneakers For Men<!-- -->  (White, Navy)</span>],\n",
       " [<span class=\"B_NuCI\">MIKE (N) Running Shoes For Men<!-- -->  (Blue)</span>],\n",
       " [<span class=\"B_NuCI\">TERMINATOR (N) Running Shoes For Men<!-- -->  (Grey)</span>],\n",
       " [<span class=\"B_NuCI\">ZURIK PRO Training &amp; Gym Shoes For Men<!-- -->  (Blue)</span>],\n",
       " [<span class=\"B_NuCI\">Outdoors For Men<!-- -->  (Black)</span>],\n",
       " [<span class=\"B_NuCI\">Slip On For Men<!-- -->  (Black)</span>],\n",
       " [<span class=\"B_NuCI\">Caven Sneakers For Men<!-- -->  (White)</span>],\n",
       " [<span class=\"B_NuCI\">CRISTY Walking Shoes For Women<!-- -->  (Black)</span>],\n",
       " [<span class=\"B_NuCI\">HURRICANE Running Shoes For Men<!-- -->  (Blue)</span>],\n",
       " [<span class=\"B_NuCI\">Casual Lifestyle Shoes for Men | Soft Cushioned Insole, Slip-Resistance Sneakers For Men<!-- -->  (White)</span>],\n",
       " [<span class=\"B_NuCI\">HURRICANE Running Shoes For Men<!-- -->  (Navy)</span>],\n",
       " [<span class=\"B_NuCI\">Casual Sneaker Shoes for Men | Soft Cushioned Insole, Slip-Resistance Sneakers For Men<!-- -->  (White)</span>],\n",
       " [<span class=\"B_NuCI\">REFRESH PRO Running Shoes For Men<!-- -->  (Grey)</span>],\n",
       " [<span class=\"B_NuCI\">ABACUS Running Shoes For Men<!-- -->  (Multicolor)</span>],\n",
       " [<span class=\"B_NuCI\">Sports Walking Shoes for Men | Soft Cushioned Insole, Slip-Resistance Walking Shoes For Men<!-- -->  (White)</span>],\n",
       " [<span class=\"B_NuCI\">Outdoors For Men<!-- -->  (Brown)</span>],\n",
       " [<span class=\"B_NuCI\">CAMP KRIPTO Running Shoes For Men<!-- -->  (White)</span>],\n",
       " [<span class=\"B_NuCI\">CAMP KARL Training &amp; Gym Shoes For Men<!-- -->  (White)</span>],\n",
       " [<span class=\"B_NuCI\">Loafers For Men<!-- -->  (Brown)</span>],\n",
       " [<span class=\"B_NuCI\">Sneaker Casual Shoes For Men | Soft Cushion Insole, Slip-Resistance Sneakers For Men<!-- -->  (Black)</span>],\n",
       " [<span class=\"B_NuCI\">Stylish and Comfirtable Shoes For Mens Running Shoes For Men<!-- -->  (Blue)</span>],\n",
       " [<span class=\"B_NuCI\">Lace Up For Men<!-- -->  (Black)</span>],\n",
       " [<span class=\"B_NuCI\">ALICE Walking Shoes For Women<!-- -->  (Black)</span>],\n",
       " [<span class=\"B_NuCI\">SYRUS Running Shoes For Men<!-- -->  (Blue)</span>],\n",
       " [<span class=\"B_NuCI\">Sneaker Casual Shoes for Men | Soft Cushioned Insole, Slip-Resistance Sneakers For Men<!-- -->  (White)</span>],\n",
       " [<span class=\"B_NuCI\">Casuals For Men<!-- -->  (Khaki)</span>],\n",
       " [<span class=\"B_NuCI\">TENSUAR M2 Running Shoes For Men<!-- -->  (White)</span>],\n",
       " [<span class=\"B_NuCI\">NORTH PLUS Running Shoes For Men<!-- -->  (Blue)</span>],\n",
       " [<span class=\"B_NuCI\">ARTEMIS Running Shoes For Men<!-- -->  (Black)</span>],\n",
       " [<span class=\"B_NuCI\">MIKE (N) Running Shoes For Men<!-- -->  (Grey)</span>],\n",
       " [<span class=\"B_NuCI\">HURRICANE Running Shoes For Men<!-- -->  (Navy)</span>],\n",
       " [<span class=\"B_NuCI\">HURRICANE Running Shoes For Men<!-- -->  (Grey)</span>],\n",
       " [<span class=\"B_NuCI\">SIMBA PRO Training &amp; Gym Shoes For Men<!-- -->  (Grey)</span>],\n",
       " [<span class=\"B_NuCI\">FIRST Running Shoes For Men<!-- -->  (Grey)</span>],\n",
       " [<span class=\"B_NuCI\">Casuals For Men<!-- -->  (Brown)</span>],\n",
       " [<span class=\"B_NuCI\">FIRST Running Shoes For Men<!-- -->  (White)</span>]]"
      ]
     },
     "execution_count": 24,
     "metadata": {},
     "output_type": "execute_result"
    }
   ],
   "source": [
    "links"
   ]
  },
  {
   "cell_type": "code",
   "execution_count": 25,
   "id": "97167683",
   "metadata": {},
   "outputs": [
    {
     "data": {
      "text/plain": [
       "['FIRST', 'Running', 'Shoes', 'For', 'Men\\xa0\\xa0(White)']"
      ]
     },
     "execution_count": 25,
     "metadata": {},
     "output_type": "execute_result"
    }
   ],
   "source": [
    "links[0][0].text.split(\" \")"
   ]
  },
  {
   "cell_type": "code",
   "execution_count": 26,
   "id": "1ae2c07c",
   "metadata": {},
   "outputs": [
    {
     "name": "stdout",
     "output_type": "stream",
     "text": [
      "FIRST Running Shoes For Men  (White)\n",
      "MIKE (N) Running Shoes For Men  (Black)\n",
      "MIKE (N) Running Shoes For Men  (Black)\n",
      "Lace Up For Men  (Black)\n",
      "Casual Lifestyle Shoes for Men | Soft Cushioned Insole, Slip-Resistance Sneakers For Men  (White, Navy)\n",
      "MIKE (N) Running Shoes For Men  (Blue)\n",
      "TERMINATOR (N) Running Shoes For Men  (Grey)\n",
      "ZURIK PRO Training & Gym Shoes For Men  (Blue)\n",
      "Outdoors For Men  (Black)\n",
      "Slip On For Men  (Black)\n",
      "Caven Sneakers For Men  (White)\n",
      "CRISTY Walking Shoes For Women  (Black)\n",
      "HURRICANE Running Shoes For Men  (Blue)\n",
      "Casual Lifestyle Shoes for Men | Soft Cushioned Insole, Slip-Resistance Sneakers For Men  (White)\n",
      "HURRICANE Running Shoes For Men  (Navy)\n",
      "Casual Sneaker Shoes for Men | Soft Cushioned Insole, Slip-Resistance Sneakers For Men  (White)\n",
      "REFRESH PRO Running Shoes For Men  (Grey)\n",
      "ABACUS Running Shoes For Men  (Multicolor)\n",
      "Sports Walking Shoes for Men | Soft Cushioned Insole, Slip-Resistance Walking Shoes For Men  (White)\n",
      "Outdoors For Men  (Brown)\n",
      "CAMP KRIPTO Running Shoes For Men  (White)\n",
      "CAMP KARL Training & Gym Shoes For Men  (White)\n",
      "Loafers For Men  (Brown)\n",
      "Sneaker Casual Shoes For Men | Soft Cushion Insole, Slip-Resistance Sneakers For Men  (Black)\n",
      "Stylish and Comfirtable Shoes For Mens Running Shoes For Men  (Blue)\n",
      "Lace Up For Men  (Black)\n",
      "ALICE Walking Shoes For Women  (Black)\n",
      "SYRUS Running Shoes For Men  (Blue)\n",
      "Sneaker Casual Shoes for Men | Soft Cushioned Insole, Slip-Resistance Sneakers For Men  (White)\n",
      "Casuals For Men  (Khaki)\n",
      "TENSUAR M2 Running Shoes For Men  (White)\n",
      "NORTH PLUS Running Shoes For Men  (Blue)\n",
      "ARTEMIS Running Shoes For Men  (Black)\n",
      "MIKE (N) Running Shoes For Men  (Grey)\n",
      "HURRICANE Running Shoes For Men  (Navy)\n",
      "HURRICANE Running Shoes For Men  (Grey)\n",
      "SIMBA PRO Training & Gym Shoes For Men  (Grey)\n",
      "FIRST Running Shoes For Men  (Grey)\n",
      "Casuals For Men  (Brown)\n",
      "FIRST Running Shoes For Men  (White)\n"
     ]
    }
   ],
   "source": [
    "for i in links:\n",
    "    if i:\n",
    "        print(i[0].text)"
   ]
  },
  {
   "cell_type": "code",
   "execution_count": 27,
   "id": "dd00b854",
   "metadata": {},
   "outputs": [
    {
     "name": "stdout",
     "output_type": "stream",
     "text": [
      " (White)\n",
      " (Black)\n",
      " (Black)\n",
      " (Black)\n",
      "| Soft Cushioned Insole, Slip-Resistance Sneakers For Men  (White, Navy)\n",
      " (Blue)\n",
      " (Grey)\n",
      " (Blue)\n",
      " (Black)\n",
      " (Black)\n",
      " (White)\n",
      " (Black)\n",
      " (Blue)\n",
      "| Soft Cushioned Insole, Slip-Resistance Sneakers For Men  (White)\n",
      " (Navy)\n",
      "| Soft Cushioned Insole, Slip-Resistance Sneakers For Men  (White)\n",
      " (Grey)\n",
      " (Multicolor)\n",
      "| Soft Cushioned Insole, Slip-Resistance Walking Shoes For Men  (White)\n",
      " (Brown)\n",
      " (White)\n",
      " (White)\n",
      " (Brown)\n",
      "| Soft Cushion Insole, Slip-Resistance Sneakers For Men  (Black)\n",
      " (Blue)\n",
      " (Black)\n",
      " (Black)\n",
      " (Blue)\n",
      "| Soft Cushioned Insole, Slip-Resistance Sneakers For Men  (White)\n",
      " (Khaki)\n",
      " (White)\n",
      " (Blue)\n",
      " (Black)\n",
      " (Grey)\n",
      " (Navy)\n",
      " (Grey)\n",
      " (Grey)\n",
      " (Grey)\n",
      " (Brown)\n",
      " (White)\n"
     ]
    }
   ],
   "source": [
    "model = []\n",
    "for i in links:\n",
    "    a = i[0].text\n",
    "    regex = re.findall(\"(?:Men|Women)\\s(.+)\",a)\n",
    "    print(regex[0])"
   ]
  },
  {
   "cell_type": "code",
   "execution_count": 28,
   "id": "049e6146",
   "metadata": {},
   "outputs": [],
   "source": [
    "gender = []\n",
    "for i in links:\n",
    "    a = (i[0].text)\n",
    "    regex = re.findall(\"Men|Women\",a)\n",
    "    gender.append(regex[0])"
   ]
  },
  {
   "cell_type": "code",
   "execution_count": 29,
   "id": "a41ca9e7",
   "metadata": {},
   "outputs": [
    {
     "data": {
      "text/plain": [
       "['Men',\n",
       " 'Men',\n",
       " 'Men',\n",
       " 'Men',\n",
       " 'Men',\n",
       " 'Men',\n",
       " 'Men',\n",
       " 'Men',\n",
       " 'Men',\n",
       " 'Men',\n",
       " 'Men',\n",
       " 'Women',\n",
       " 'Men',\n",
       " 'Men',\n",
       " 'Men',\n",
       " 'Men',\n",
       " 'Men',\n",
       " 'Men',\n",
       " 'Men',\n",
       " 'Men',\n",
       " 'Men',\n",
       " 'Men',\n",
       " 'Men',\n",
       " 'Men',\n",
       " 'Men',\n",
       " 'Men',\n",
       " 'Women',\n",
       " 'Men',\n",
       " 'Men',\n",
       " 'Men',\n",
       " 'Men',\n",
       " 'Men',\n",
       " 'Men',\n",
       " 'Men',\n",
       " 'Men',\n",
       " 'Men',\n",
       " 'Men',\n",
       " 'Men',\n",
       " 'Men',\n",
       " 'Men']"
      ]
     },
     "execution_count": 29,
     "metadata": {},
     "output_type": "execute_result"
    }
   ],
   "source": [
    "gender"
   ]
  },
  {
   "cell_type": "code",
   "execution_count": 109,
   "id": "e2938f0d",
   "metadata": {},
   "outputs": [
    {
     "name": "stdout",
     "output_type": "stream",
     "text": [
      "['Walking', 'Shoes', 'For', 'Men', 'White']\n",
      "['Casual', 'Lifestyle', 'Shoes', 'for', 'Men', 'Soft', 'Cushioned', 'Insole', 'Slip', 'Resistance', 'High', 'Tops', 'For', 'Men', 'White']\n",
      "['Lace', 'Up', 'For', 'Men', 'Black']\n",
      "['MIKE', 'N', 'Running', 'Shoes', 'For', 'Men', 'Black']\n",
      "['Casual', 'Lifestyle', 'Shoes', 'for', 'Men', 'Soft', 'Cushioned', 'Insole', 'Slip', 'Resistance', 'Sneakers', 'For', 'Men', 'White', 'Navy']\n",
      "['MIKE', 'N', 'Running', 'Shoes', 'For', 'Men', 'Blue']\n",
      "['Sneaker', 'Casual', 'Shoes', 'for', 'Men', 'Soft', 'Cushioned', 'Insole', 'Slip', 'Resistance', 'Sneakers', 'For', 'Men', 'Blue']\n",
      "['Walking', 'Shoes', 'For', 'Women', 'Pink']\n",
      "['Outdoors', 'For', 'Men', 'Black']\n"
     ]
    },
    {
     "ename": "IndexError",
     "evalue": "list index out of range",
     "output_type": "error",
     "traceback": [
      "\u001b[1;31m---------------------------------------------------------------------------\u001b[0m",
      "\u001b[1;31mIndexError\u001b[0m                                Traceback (most recent call last)",
      "Cell \u001b[1;32mIn[109], line 3\u001b[0m\n\u001b[0;32m      1\u001b[0m model \u001b[38;5;241m=\u001b[39m []\n\u001b[0;32m      2\u001b[0m \u001b[38;5;28;01mfor\u001b[39;00m i \u001b[38;5;129;01min\u001b[39;00m links:\n\u001b[1;32m----> 3\u001b[0m     a \u001b[38;5;241m=\u001b[39m (i[\u001b[38;5;241m0\u001b[39m]\u001b[38;5;241m.\u001b[39mtext)\n\u001b[0;32m      4\u001b[0m     regex \u001b[38;5;241m=\u001b[39m re\u001b[38;5;241m.\u001b[39mfindall(\u001b[38;5;124m\"\u001b[39m\u001b[38;5;124m(\u001b[39m\u001b[38;5;124m\\\u001b[39m\u001b[38;5;124mw+)\u001b[39m\u001b[38;5;124m\"\u001b[39m,a)\n\u001b[0;32m      5\u001b[0m     \u001b[38;5;28mprint\u001b[39m(regex)\n",
      "\u001b[1;31mIndexError\u001b[0m: list index out of range"
     ]
    }
   ],
   "source": [
    "model = []\n",
    "for i in links:\n",
    "    a = (i[0].text)\n",
    "    regex = re.findall(\"(\\w+)\",a)\n",
    "    print(regex)"
   ]
  },
  {
   "cell_type": "code",
   "execution_count": 95,
   "id": "306d0a57",
   "metadata": {},
   "outputs": [],
   "source": [
    "import numpy as np\n",
    "AverageRating=[]\n",
    "l2 = []\n",
    "for i in link:\n",
    "    k='https://www.flipkart.com'+i\n",
    "    page1=requests.get(k)\n",
    "    soup1=BeautifulSoup(page1.text)\n",
    "    #links.append(soup1.find_all(\"div\",class_=\"_3LWZlK _3uSWvT\"))\n",
    "    l2.append(soup1.find_all(\"div\",class_=\"_3LWZlK _3uSWvT\"))\n",
    "    for i in soup1.find_all(\"div\",class_=\"_3LWZlK _3uSWvT\"):\n",
    "        if len(i.text)>=1:\n",
    "            AverageRating.append(i.text)\n",
    "        else:\n",
    "            AverageRating.append(np.nan)"
   ]
  },
  {
   "cell_type": "code",
   "execution_count": 96,
   "id": "c6db4d2a",
   "metadata": {},
   "outputs": [
    {
     "data": {
      "text/plain": [
       "['4.1',\n",
       " '4.2',\n",
       " '4.1',\n",
       " '4',\n",
       " '4.1',\n",
       " '4.3',\n",
       " '4.2',\n",
       " '4.1',\n",
       " '5',\n",
       " '4.2',\n",
       " '4.3',\n",
       " '4',\n",
       " '4.4',\n",
       " '4.3',\n",
       " '4.4',\n",
       " '4.1',\n",
       " '4.2',\n",
       " '4.1',\n",
       " '4.3',\n",
       " '4.1',\n",
       " '4.2',\n",
       " '4.3',\n",
       " '4.2',\n",
       " '4.3',\n",
       " '4.1',\n",
       " '4.2',\n",
       " '4.1',\n",
       " '4.4',\n",
       " '4.1',\n",
       " '3.8',\n",
       " '4.1',\n",
       " '4.1',\n",
       " '4.2',\n",
       " '4',\n",
       " '4.2',\n",
       " '4.1',\n",
       " '4.3']"
      ]
     },
     "execution_count": 96,
     "metadata": {},
     "output_type": "execute_result"
    }
   ],
   "source": [
    "AverageRating"
   ]
  },
  {
   "cell_type": "code",
   "execution_count": 76,
   "id": "e38a7ddf",
   "metadata": {},
   "outputs": [
    {
     "data": {
      "text/plain": [
       "'4.1'"
      ]
     },
     "execution_count": 76,
     "metadata": {},
     "output_type": "execute_result"
    }
   ],
   "source": [
    "l2[2][0].text"
   ]
  },
  {
   "cell_type": "code",
   "execution_count": 119,
   "id": "c5f97d2e",
   "metadata": {},
   "outputs": [
    {
     "data": {
      "text/plain": [
       "[[<div class=\"_3LWZlK _3uSWvT\">4.1<img class=\"_1wB99o _19cuvx\" src=\"data:image/svg+xml;base64,PHN2ZyB4bWxucz0iaHR0cDovL3d3dy53My5vcmcvMjAwMC9zdmciIHdpZHRoPSIxMyIgaGVpZ2h0PSIxMiI+PHBhdGggZmlsbD0iI0ZGRiIgZD0iTTYuNSA5LjQzOWwtMy42NzQgMi4yMy45NC00LjI2LTMuMjEtMi44ODMgNC4yNTQtLjQwNEw2LjUuMTEybDEuNjkgNC4wMSA0LjI1NC40MDQtMy4yMSAyLjg4Mi45NCA0LjI2eiIvPjwvc3ZnPg==\"/></div>],\n",
       " [<div class=\"_3LWZlK _3uSWvT\">4.2<img class=\"_1wB99o _19cuvx\" src=\"data:image/svg+xml;base64,PHN2ZyB4bWxucz0iaHR0cDovL3d3dy53My5vcmcvMjAwMC9zdmciIHdpZHRoPSIxMyIgaGVpZ2h0PSIxMiI+PHBhdGggZmlsbD0iI0ZGRiIgZD0iTTYuNSA5LjQzOWwtMy42NzQgMi4yMy45NC00LjI2LTMuMjEtMi44ODMgNC4yNTQtLjQwNEw2LjUuMTEybDEuNjkgNC4wMSA0LjI1NC40MDQtMy4yMSAyLjg4Mi45NCA0LjI2eiIvPjwvc3ZnPg==\"/></div>],\n",
       " [<div class=\"_3LWZlK _3uSWvT\">4.1<img class=\"_1wB99o _19cuvx\" src=\"data:image/svg+xml;base64,PHN2ZyB4bWxucz0iaHR0cDovL3d3dy53My5vcmcvMjAwMC9zdmciIHdpZHRoPSIxMyIgaGVpZ2h0PSIxMiI+PHBhdGggZmlsbD0iI0ZGRiIgZD0iTTYuNSA5LjQzOWwtMy42NzQgMi4yMy45NC00LjI2LTMuMjEtMi44ODMgNC4yNTQtLjQwNEw2LjUuMTEybDEuNjkgNC4wMSA0LjI1NC40MDQtMy4yMSAyLjg4Mi45NCA0LjI2eiIvPjwvc3ZnPg==\"/></div>],\n",
       " [<div class=\"_3LWZlK _3uSWvT\">4<img class=\"_1wB99o _19cuvx\" src=\"data:image/svg+xml;base64,PHN2ZyB4bWxucz0iaHR0cDovL3d3dy53My5vcmcvMjAwMC9zdmciIHdpZHRoPSIxMyIgaGVpZ2h0PSIxMiI+PHBhdGggZmlsbD0iI0ZGRiIgZD0iTTYuNSA5LjQzOWwtMy42NzQgMi4yMy45NC00LjI2LTMuMjEtMi44ODMgNC4yNTQtLjQwNEw2LjUuMTEybDEuNjkgNC4wMSA0LjI1NC40MDQtMy4yMSAyLjg4Mi45NCA0LjI2eiIvPjwvc3ZnPg==\"/></div>],\n",
       " [<div class=\"_3LWZlK _3uSWvT\">4.1<img class=\"_1wB99o _19cuvx\" src=\"data:image/svg+xml;base64,PHN2ZyB4bWxucz0iaHR0cDovL3d3dy53My5vcmcvMjAwMC9zdmciIHdpZHRoPSIxMyIgaGVpZ2h0PSIxMiI+PHBhdGggZmlsbD0iI0ZGRiIgZD0iTTYuNSA5LjQzOWwtMy42NzQgMi4yMy45NC00LjI2LTMuMjEtMi44ODMgNC4yNTQtLjQwNEw2LjUuMTEybDEuNjkgNC4wMSA0LjI1NC40MDQtMy4yMSAyLjg4Mi45NCA0LjI2eiIvPjwvc3ZnPg==\"/></div>],\n",
       " [<div class=\"_3LWZlK _3uSWvT\">4.3<img class=\"_1wB99o _19cuvx\" src=\"data:image/svg+xml;base64,PHN2ZyB4bWxucz0iaHR0cDovL3d3dy53My5vcmcvMjAwMC9zdmciIHdpZHRoPSIxMyIgaGVpZ2h0PSIxMiI+PHBhdGggZmlsbD0iI0ZGRiIgZD0iTTYuNSA5LjQzOWwtMy42NzQgMi4yMy45NC00LjI2LTMuMjEtMi44ODMgNC4yNTQtLjQwNEw2LjUuMTEybDEuNjkgNC4wMSA0LjI1NC40MDQtMy4yMSAyLjg4Mi45NCA0LjI2eiIvPjwvc3ZnPg==\"/></div>],\n",
       " [<div class=\"_3LWZlK _3uSWvT\">4.2<img class=\"_1wB99o _19cuvx\" src=\"data:image/svg+xml;base64,PHN2ZyB4bWxucz0iaHR0cDovL3d3dy53My5vcmcvMjAwMC9zdmciIHdpZHRoPSIxMyIgaGVpZ2h0PSIxMiI+PHBhdGggZmlsbD0iI0ZGRiIgZD0iTTYuNSA5LjQzOWwtMy42NzQgMi4yMy45NC00LjI2LTMuMjEtMi44ODMgNC4yNTQtLjQwNEw2LjUuMTEybDEuNjkgNC4wMSA0LjI1NC40MDQtMy4yMSAyLjg4Mi45NCA0LjI2eiIvPjwvc3ZnPg==\"/></div>],\n",
       " [<div class=\"_3LWZlK _3uSWvT\">4.1<img class=\"_1wB99o _19cuvx\" src=\"data:image/svg+xml;base64,PHN2ZyB4bWxucz0iaHR0cDovL3d3dy53My5vcmcvMjAwMC9zdmciIHdpZHRoPSIxMyIgaGVpZ2h0PSIxMiI+PHBhdGggZmlsbD0iI0ZGRiIgZD0iTTYuNSA5LjQzOWwtMy42NzQgMi4yMy45NC00LjI2LTMuMjEtMi44ODMgNC4yNTQtLjQwNEw2LjUuMTEybDEuNjkgNC4wMSA0LjI1NC40MDQtMy4yMSAyLjg4Mi45NCA0LjI2eiIvPjwvc3ZnPg==\"/></div>],\n",
       " [<div class=\"_3LWZlK _3uSWvT\">5<img class=\"_1wB99o _19cuvx\" src=\"data:image/svg+xml;base64,PHN2ZyB4bWxucz0iaHR0cDovL3d3dy53My5vcmcvMjAwMC9zdmciIHdpZHRoPSIxMyIgaGVpZ2h0PSIxMiI+PHBhdGggZmlsbD0iI0ZGRiIgZD0iTTYuNSA5LjQzOWwtMy42NzQgMi4yMy45NC00LjI2LTMuMjEtMi44ODMgNC4yNTQtLjQwNEw2LjUuMTEybDEuNjkgNC4wMSA0LjI1NC40MDQtMy4yMSAyLjg4Mi45NCA0LjI2eiIvPjwvc3ZnPg==\"/></div>],\n",
       " [<div class=\"_3LWZlK _3uSWvT\">4.2<img class=\"_1wB99o _19cuvx\" src=\"data:image/svg+xml;base64,PHN2ZyB4bWxucz0iaHR0cDovL3d3dy53My5vcmcvMjAwMC9zdmciIHdpZHRoPSIxMyIgaGVpZ2h0PSIxMiI+PHBhdGggZmlsbD0iI0ZGRiIgZD0iTTYuNSA5LjQzOWwtMy42NzQgMi4yMy45NC00LjI2LTMuMjEtMi44ODMgNC4yNTQtLjQwNEw2LjUuMTEybDEuNjkgNC4wMSA0LjI1NC40MDQtMy4yMSAyLjg4Mi45NCA0LjI2eiIvPjwvc3ZnPg==\"/></div>],\n",
       " [<div class=\"_3LWZlK _3uSWvT\">4.3<img class=\"_1wB99o _19cuvx\" src=\"data:image/svg+xml;base64,PHN2ZyB4bWxucz0iaHR0cDovL3d3dy53My5vcmcvMjAwMC9zdmciIHdpZHRoPSIxMyIgaGVpZ2h0PSIxMiI+PHBhdGggZmlsbD0iI0ZGRiIgZD0iTTYuNSA5LjQzOWwtMy42NzQgMi4yMy45NC00LjI2LTMuMjEtMi44ODMgNC4yNTQtLjQwNEw2LjUuMTEybDEuNjkgNC4wMSA0LjI1NC40MDQtMy4yMSAyLjg4Mi45NCA0LjI2eiIvPjwvc3ZnPg==\"/></div>],\n",
       " [<div class=\"_3LWZlK _3uSWvT\">4<img class=\"_1wB99o _19cuvx\" src=\"data:image/svg+xml;base64,PHN2ZyB4bWxucz0iaHR0cDovL3d3dy53My5vcmcvMjAwMC9zdmciIHdpZHRoPSIxMyIgaGVpZ2h0PSIxMiI+PHBhdGggZmlsbD0iI0ZGRiIgZD0iTTYuNSA5LjQzOWwtMy42NzQgMi4yMy45NC00LjI2LTMuMjEtMi44ODMgNC4yNTQtLjQwNEw2LjUuMTEybDEuNjkgNC4wMSA0LjI1NC40MDQtMy4yMSAyLjg4Mi45NCA0LjI2eiIvPjwvc3ZnPg==\"/></div>],\n",
       " [<div class=\"_3LWZlK _3uSWvT\">4.4<img class=\"_1wB99o _19cuvx\" src=\"data:image/svg+xml;base64,PHN2ZyB4bWxucz0iaHR0cDovL3d3dy53My5vcmcvMjAwMC9zdmciIHdpZHRoPSIxMyIgaGVpZ2h0PSIxMiI+PHBhdGggZmlsbD0iI0ZGRiIgZD0iTTYuNSA5LjQzOWwtMy42NzQgMi4yMy45NC00LjI2LTMuMjEtMi44ODMgNC4yNTQtLjQwNEw2LjUuMTEybDEuNjkgNC4wMSA0LjI1NC40MDQtMy4yMSAyLjg4Mi45NCA0LjI2eiIvPjwvc3ZnPg==\"/></div>],\n",
       " [<div class=\"_3LWZlK _3uSWvT\">4.3<img class=\"_1wB99o _19cuvx\" src=\"data:image/svg+xml;base64,PHN2ZyB4bWxucz0iaHR0cDovL3d3dy53My5vcmcvMjAwMC9zdmciIHdpZHRoPSIxMyIgaGVpZ2h0PSIxMiI+PHBhdGggZmlsbD0iI0ZGRiIgZD0iTTYuNSA5LjQzOWwtMy42NzQgMi4yMy45NC00LjI2LTMuMjEtMi44ODMgNC4yNTQtLjQwNEw2LjUuMTEybDEuNjkgNC4wMSA0LjI1NC40MDQtMy4yMSAyLjg4Mi45NCA0LjI2eiIvPjwvc3ZnPg==\"/></div>],\n",
       " [<div class=\"_3LWZlK _3uSWvT\">4.4<img class=\"_1wB99o _19cuvx\" src=\"data:image/svg+xml;base64,PHN2ZyB4bWxucz0iaHR0cDovL3d3dy53My5vcmcvMjAwMC9zdmciIHdpZHRoPSIxMyIgaGVpZ2h0PSIxMiI+PHBhdGggZmlsbD0iI0ZGRiIgZD0iTTYuNSA5LjQzOWwtMy42NzQgMi4yMy45NC00LjI2LTMuMjEtMi44ODMgNC4yNTQtLjQwNEw2LjUuMTEybDEuNjkgNC4wMSA0LjI1NC40MDQtMy4yMSAyLjg4Mi45NCA0LjI2eiIvPjwvc3ZnPg==\"/></div>],\n",
       " [<div class=\"_3LWZlK _3uSWvT\">4.1<img class=\"_1wB99o _19cuvx\" src=\"data:image/svg+xml;base64,PHN2ZyB4bWxucz0iaHR0cDovL3d3dy53My5vcmcvMjAwMC9zdmciIHdpZHRoPSIxMyIgaGVpZ2h0PSIxMiI+PHBhdGggZmlsbD0iI0ZGRiIgZD0iTTYuNSA5LjQzOWwtMy42NzQgMi4yMy45NC00LjI2LTMuMjEtMi44ODMgNC4yNTQtLjQwNEw2LjUuMTEybDEuNjkgNC4wMSA0LjI1NC40MDQtMy4yMSAyLjg4Mi45NCA0LjI2eiIvPjwvc3ZnPg==\"/></div>],\n",
       " [<div class=\"_3LWZlK _3uSWvT\">4.2<img class=\"_1wB99o _19cuvx\" src=\"data:image/svg+xml;base64,PHN2ZyB4bWxucz0iaHR0cDovL3d3dy53My5vcmcvMjAwMC9zdmciIHdpZHRoPSIxMyIgaGVpZ2h0PSIxMiI+PHBhdGggZmlsbD0iI0ZGRiIgZD0iTTYuNSA5LjQzOWwtMy42NzQgMi4yMy45NC00LjI2LTMuMjEtMi44ODMgNC4yNTQtLjQwNEw2LjUuMTEybDEuNjkgNC4wMSA0LjI1NC40MDQtMy4yMSAyLjg4Mi45NCA0LjI2eiIvPjwvc3ZnPg==\"/></div>],\n",
       " [<div class=\"_3LWZlK _3uSWvT\">4.1<img class=\"_1wB99o _19cuvx\" src=\"data:image/svg+xml;base64,PHN2ZyB4bWxucz0iaHR0cDovL3d3dy53My5vcmcvMjAwMC9zdmciIHdpZHRoPSIxMyIgaGVpZ2h0PSIxMiI+PHBhdGggZmlsbD0iI0ZGRiIgZD0iTTYuNSA5LjQzOWwtMy42NzQgMi4yMy45NC00LjI2LTMuMjEtMi44ODMgNC4yNTQtLjQwNEw2LjUuMTEybDEuNjkgNC4wMSA0LjI1NC40MDQtMy4yMSAyLjg4Mi45NCA0LjI2eiIvPjwvc3ZnPg==\"/></div>],\n",
       " [<div class=\"_3LWZlK _3uSWvT\">4.3<img class=\"_1wB99o _19cuvx\" src=\"data:image/svg+xml;base64,PHN2ZyB4bWxucz0iaHR0cDovL3d3dy53My5vcmcvMjAwMC9zdmciIHdpZHRoPSIxMyIgaGVpZ2h0PSIxMiI+PHBhdGggZmlsbD0iI0ZGRiIgZD0iTTYuNSA5LjQzOWwtMy42NzQgMi4yMy45NC00LjI2LTMuMjEtMi44ODMgNC4yNTQtLjQwNEw2LjUuMTEybDEuNjkgNC4wMSA0LjI1NC40MDQtMy4yMSAyLjg4Mi45NCA0LjI2eiIvPjwvc3ZnPg==\"/></div>],\n",
       " [],\n",
       " [<div class=\"_3LWZlK _3uSWvT\">4.1<img class=\"_1wB99o _19cuvx\" src=\"data:image/svg+xml;base64,PHN2ZyB4bWxucz0iaHR0cDovL3d3dy53My5vcmcvMjAwMC9zdmciIHdpZHRoPSIxMyIgaGVpZ2h0PSIxMiI+PHBhdGggZmlsbD0iI0ZGRiIgZD0iTTYuNSA5LjQzOWwtMy42NzQgMi4yMy45NC00LjI2LTMuMjEtMi44ODMgNC4yNTQtLjQwNEw2LjUuMTEybDEuNjkgNC4wMSA0LjI1NC40MDQtMy4yMSAyLjg4Mi45NCA0LjI2eiIvPjwvc3ZnPg==\"/></div>],\n",
       " [<div class=\"_3LWZlK _3uSWvT\">4.2<img class=\"_1wB99o _19cuvx\" src=\"data:image/svg+xml;base64,PHN2ZyB4bWxucz0iaHR0cDovL3d3dy53My5vcmcvMjAwMC9zdmciIHdpZHRoPSIxMyIgaGVpZ2h0PSIxMiI+PHBhdGggZmlsbD0iI0ZGRiIgZD0iTTYuNSA5LjQzOWwtMy42NzQgMi4yMy45NC00LjI2LTMuMjEtMi44ODMgNC4yNTQtLjQwNEw2LjUuMTEybDEuNjkgNC4wMSA0LjI1NC40MDQtMy4yMSAyLjg4Mi45NCA0LjI2eiIvPjwvc3ZnPg==\"/></div>],\n",
       " [<div class=\"_3LWZlK _3uSWvT\">4.3<img class=\"_1wB99o _19cuvx\" src=\"data:image/svg+xml;base64,PHN2ZyB4bWxucz0iaHR0cDovL3d3dy53My5vcmcvMjAwMC9zdmciIHdpZHRoPSIxMyIgaGVpZ2h0PSIxMiI+PHBhdGggZmlsbD0iI0ZGRiIgZD0iTTYuNSA5LjQzOWwtMy42NzQgMi4yMy45NC00LjI2LTMuMjEtMi44ODMgNC4yNTQtLjQwNEw2LjUuMTEybDEuNjkgNC4wMSA0LjI1NC40MDQtMy4yMSAyLjg4Mi45NCA0LjI2eiIvPjwvc3ZnPg==\"/></div>],\n",
       " [<div class=\"_3LWZlK _3uSWvT\">4.2<img class=\"_1wB99o _19cuvx\" src=\"data:image/svg+xml;base64,PHN2ZyB4bWxucz0iaHR0cDovL3d3dy53My5vcmcvMjAwMC9zdmciIHdpZHRoPSIxMyIgaGVpZ2h0PSIxMiI+PHBhdGggZmlsbD0iI0ZGRiIgZD0iTTYuNSA5LjQzOWwtMy42NzQgMi4yMy45NC00LjI2LTMuMjEtMi44ODMgNC4yNTQtLjQwNEw2LjUuMTEybDEuNjkgNC4wMSA0LjI1NC40MDQtMy4yMSAyLjg4Mi45NCA0LjI2eiIvPjwvc3ZnPg==\"/></div>],\n",
       " [<div class=\"_3LWZlK _3uSWvT\">4.3<img class=\"_1wB99o _19cuvx\" src=\"data:image/svg+xml;base64,PHN2ZyB4bWxucz0iaHR0cDovL3d3dy53My5vcmcvMjAwMC9zdmciIHdpZHRoPSIxMyIgaGVpZ2h0PSIxMiI+PHBhdGggZmlsbD0iI0ZGRiIgZD0iTTYuNSA5LjQzOWwtMy42NzQgMi4yMy45NC00LjI2LTMuMjEtMi44ODMgNC4yNTQtLjQwNEw2LjUuMTEybDEuNjkgNC4wMSA0LjI1NC40MDQtMy4yMSAyLjg4Mi45NCA0LjI2eiIvPjwvc3ZnPg==\"/></div>],\n",
       " [<div class=\"_3LWZlK _3uSWvT\">4.1<img class=\"_1wB99o _19cuvx\" src=\"data:image/svg+xml;base64,PHN2ZyB4bWxucz0iaHR0cDovL3d3dy53My5vcmcvMjAwMC9zdmciIHdpZHRoPSIxMyIgaGVpZ2h0PSIxMiI+PHBhdGggZmlsbD0iI0ZGRiIgZD0iTTYuNSA5LjQzOWwtMy42NzQgMi4yMy45NC00LjI2LTMuMjEtMi44ODMgNC4yNTQtLjQwNEw2LjUuMTEybDEuNjkgNC4wMSA0LjI1NC40MDQtMy4yMSAyLjg4Mi45NCA0LjI2eiIvPjwvc3ZnPg==\"/></div>],\n",
       " [<div class=\"_3LWZlK _3uSWvT\">4.2<img class=\"_1wB99o _19cuvx\" src=\"data:image/svg+xml;base64,PHN2ZyB4bWxucz0iaHR0cDovL3d3dy53My5vcmcvMjAwMC9zdmciIHdpZHRoPSIxMyIgaGVpZ2h0PSIxMiI+PHBhdGggZmlsbD0iI0ZGRiIgZD0iTTYuNSA5LjQzOWwtMy42NzQgMi4yMy45NC00LjI2LTMuMjEtMi44ODMgNC4yNTQtLjQwNEw2LjUuMTEybDEuNjkgNC4wMSA0LjI1NC40MDQtMy4yMSAyLjg4Mi45NCA0LjI2eiIvPjwvc3ZnPg==\"/></div>],\n",
       " [<div class=\"_3LWZlK _3uSWvT\">4.1<img class=\"_1wB99o _19cuvx\" src=\"data:image/svg+xml;base64,PHN2ZyB4bWxucz0iaHR0cDovL3d3dy53My5vcmcvMjAwMC9zdmciIHdpZHRoPSIxMyIgaGVpZ2h0PSIxMiI+PHBhdGggZmlsbD0iI0ZGRiIgZD0iTTYuNSA5LjQzOWwtMy42NzQgMi4yMy45NC00LjI2LTMuMjEtMi44ODMgNC4yNTQtLjQwNEw2LjUuMTEybDEuNjkgNC4wMSA0LjI1NC40MDQtMy4yMSAyLjg4Mi45NCA0LjI2eiIvPjwvc3ZnPg==\"/></div>],\n",
       " [<div class=\"_3LWZlK _3uSWvT\">4.4<img class=\"_1wB99o _19cuvx\" src=\"data:image/svg+xml;base64,PHN2ZyB4bWxucz0iaHR0cDovL3d3dy53My5vcmcvMjAwMC9zdmciIHdpZHRoPSIxMyIgaGVpZ2h0PSIxMiI+PHBhdGggZmlsbD0iI0ZGRiIgZD0iTTYuNSA5LjQzOWwtMy42NzQgMi4yMy45NC00LjI2LTMuMjEtMi44ODMgNC4yNTQtLjQwNEw2LjUuMTEybDEuNjkgNC4wMSA0LjI1NC40MDQtMy4yMSAyLjg4Mi45NCA0LjI2eiIvPjwvc3ZnPg==\"/></div>],\n",
       " [<div class=\"_3LWZlK _3uSWvT\">4.1<img class=\"_1wB99o _19cuvx\" src=\"data:image/svg+xml;base64,PHN2ZyB4bWxucz0iaHR0cDovL3d3dy53My5vcmcvMjAwMC9zdmciIHdpZHRoPSIxMyIgaGVpZ2h0PSIxMiI+PHBhdGggZmlsbD0iI0ZGRiIgZD0iTTYuNSA5LjQzOWwtMy42NzQgMi4yMy45NC00LjI2LTMuMjEtMi44ODMgNC4yNTQtLjQwNEw2LjUuMTEybDEuNjkgNC4wMSA0LjI1NC40MDQtMy4yMSAyLjg4Mi45NCA0LjI2eiIvPjwvc3ZnPg==\"/></div>],\n",
       " [<div class=\"_3LWZlK _3uSWvT\">3.8<img class=\"_1wB99o _19cuvx\" src=\"data:image/svg+xml;base64,PHN2ZyB4bWxucz0iaHR0cDovL3d3dy53My5vcmcvMjAwMC9zdmciIHdpZHRoPSIxMyIgaGVpZ2h0PSIxMiI+PHBhdGggZmlsbD0iI0ZGRiIgZD0iTTYuNSA5LjQzOWwtMy42NzQgMi4yMy45NC00LjI2LTMuMjEtMi44ODMgNC4yNTQtLjQwNEw2LjUuMTEybDEuNjkgNC4wMSA0LjI1NC40MDQtMy4yMSAyLjg4Mi45NCA0LjI2eiIvPjwvc3ZnPg==\"/></div>],\n",
       " [<div class=\"_3LWZlK _3uSWvT\">4.1<img class=\"_1wB99o _19cuvx\" src=\"data:image/svg+xml;base64,PHN2ZyB4bWxucz0iaHR0cDovL3d3dy53My5vcmcvMjAwMC9zdmciIHdpZHRoPSIxMyIgaGVpZ2h0PSIxMiI+PHBhdGggZmlsbD0iI0ZGRiIgZD0iTTYuNSA5LjQzOWwtMy42NzQgMi4yMy45NC00LjI2LTMuMjEtMi44ODMgNC4yNTQtLjQwNEw2LjUuMTEybDEuNjkgNC4wMSA0LjI1NC40MDQtMy4yMSAyLjg4Mi45NCA0LjI2eiIvPjwvc3ZnPg==\"/></div>],\n",
       " [],\n",
       " [],\n",
       " [<div class=\"_3LWZlK _3uSWvT\">4.1<img class=\"_1wB99o _19cuvx\" src=\"data:image/svg+xml;base64,PHN2ZyB4bWxucz0iaHR0cDovL3d3dy53My5vcmcvMjAwMC9zdmciIHdpZHRoPSIxMyIgaGVpZ2h0PSIxMiI+PHBhdGggZmlsbD0iI0ZGRiIgZD0iTTYuNSA5LjQzOWwtMy42NzQgMi4yMy45NC00LjI2LTMuMjEtMi44ODMgNC4yNTQtLjQwNEw2LjUuMTEybDEuNjkgNC4wMSA0LjI1NC40MDQtMy4yMSAyLjg4Mi45NCA0LjI2eiIvPjwvc3ZnPg==\"/></div>],\n",
       " [<div class=\"_3LWZlK _3uSWvT\">4.2<img class=\"_1wB99o _19cuvx\" src=\"data:image/svg+xml;base64,PHN2ZyB4bWxucz0iaHR0cDovL3d3dy53My5vcmcvMjAwMC9zdmciIHdpZHRoPSIxMyIgaGVpZ2h0PSIxMiI+PHBhdGggZmlsbD0iI0ZGRiIgZD0iTTYuNSA5LjQzOWwtMy42NzQgMi4yMy45NC00LjI2LTMuMjEtMi44ODMgNC4yNTQtLjQwNEw2LjUuMTEybDEuNjkgNC4wMSA0LjI1NC40MDQtMy4yMSAyLjg4Mi45NCA0LjI2eiIvPjwvc3ZnPg==\"/></div>],\n",
       " [<div class=\"_3LWZlK _3uSWvT\">4<img class=\"_1wB99o _19cuvx\" src=\"data:image/svg+xml;base64,PHN2ZyB4bWxucz0iaHR0cDovL3d3dy53My5vcmcvMjAwMC9zdmciIHdpZHRoPSIxMyIgaGVpZ2h0PSIxMiI+PHBhdGggZmlsbD0iI0ZGRiIgZD0iTTYuNSA5LjQzOWwtMy42NzQgMi4yMy45NC00LjI2LTMuMjEtMi44ODMgNC4yNTQtLjQwNEw2LjUuMTEybDEuNjkgNC4wMSA0LjI1NC40MDQtMy4yMSAyLjg4Mi45NCA0LjI2eiIvPjwvc3ZnPg==\"/></div>],\n",
       " [<div class=\"_3LWZlK _3uSWvT\">4.2<img class=\"_1wB99o _19cuvx\" src=\"data:image/svg+xml;base64,PHN2ZyB4bWxucz0iaHR0cDovL3d3dy53My5vcmcvMjAwMC9zdmciIHdpZHRoPSIxMyIgaGVpZ2h0PSIxMiI+PHBhdGggZmlsbD0iI0ZGRiIgZD0iTTYuNSA5LjQzOWwtMy42NzQgMi4yMy45NC00LjI2LTMuMjEtMi44ODMgNC4yNTQtLjQwNEw2LjUuMTEybDEuNjkgNC4wMSA0LjI1NC40MDQtMy4yMSAyLjg4Mi45NCA0LjI2eiIvPjwvc3ZnPg==\"/></div>],\n",
       " [<div class=\"_3LWZlK _3uSWvT\">4.1<img class=\"_1wB99o _19cuvx\" src=\"data:image/svg+xml;base64,PHN2ZyB4bWxucz0iaHR0cDovL3d3dy53My5vcmcvMjAwMC9zdmciIHdpZHRoPSIxMyIgaGVpZ2h0PSIxMiI+PHBhdGggZmlsbD0iI0ZGRiIgZD0iTTYuNSA5LjQzOWwtMy42NzQgMi4yMy45NC00LjI2LTMuMjEtMi44ODMgNC4yNTQtLjQwNEw2LjUuMTEybDEuNjkgNC4wMSA0LjI1NC40MDQtMy4yMSAyLjg4Mi45NCA0LjI2eiIvPjwvc3ZnPg==\"/></div>],\n",
       " [<div class=\"_3LWZlK _3uSWvT\">4.3<img class=\"_1wB99o _19cuvx\" src=\"data:image/svg+xml;base64,PHN2ZyB4bWxucz0iaHR0cDovL3d3dy53My5vcmcvMjAwMC9zdmciIHdpZHRoPSIxMyIgaGVpZ2h0PSIxMiI+PHBhdGggZmlsbD0iI0ZGRiIgZD0iTTYuNSA5LjQzOWwtMy42NzQgMi4yMy45NC00LjI2LTMuMjEtMi44ODMgNC4yNTQtLjQwNEw2LjUuMTEybDEuNjkgNC4wMSA0LjI1NC40MDQtMy4yMSAyLjg4Mi45NCA0LjI2eiIvPjwvc3ZnPg==\"/></div>]]"
      ]
     },
     "execution_count": 119,
     "metadata": {},
     "output_type": "execute_result"
    }
   ],
   "source": [
    "l2"
   ]
  },
  {
   "cell_type": "code",
   "execution_count": 70,
   "id": "5b4c9ac7",
   "metadata": {},
   "outputs": [
    {
     "data": {
      "text/plain": [
       "39"
      ]
     },
     "execution_count": 70,
     "metadata": {},
     "output_type": "execute_result"
    }
   ],
   "source": [
    "len(links)"
   ]
  },
  {
   "cell_type": "code",
   "execution_count": 383,
   "id": "c3a9d130",
   "metadata": {},
   "outputs": [
    {
     "data": {
      "text/plain": [
       "'18,806 ratings and 1,626 reviews'"
      ]
     },
     "execution_count": 383,
     "metadata": {},
     "output_type": "execute_result"
    }
   ],
   "source": [
    "links1[11][0].text"
   ]
  },
  {
   "cell_type": "code",
   "execution_count": 50,
   "id": "bbbcd5c0",
   "metadata": {},
   "outputs": [],
   "source": [
    "links1=[]\n",
    "for i in link:\n",
    "    k='https://www.flipkart.com'+i\n",
    "    page1=requests.get(k)\n",
    "    soup1=BeautifulSoup(page1.text)\n",
    "    links1.append(soup1.find_all(\"span\",class_=\"B_NuCI\"))"
   ]
  },
  {
   "cell_type": "code",
   "execution_count": 40,
   "id": "938bada5",
   "metadata": {},
   "outputs": [],
   "source": [
    "k=links1[0][0].text"
   ]
  },
  {
   "cell_type": "code",
   "execution_count": 41,
   "id": "8c2f1b73",
   "metadata": {},
   "outputs": [
    {
     "data": {
      "text/plain": [
       "'Casual Sneaker Shoes for Men | Soft Cushioned Insole, Slip-Resistance Sneakers For Men\\xa0\\xa0(Black, White, Grey)'"
      ]
     },
     "execution_count": 41,
     "metadata": {},
     "output_type": "execute_result"
    }
   ],
   "source": [
    "k"
   ]
  },
  {
   "cell_type": "code",
   "execution_count": 42,
   "id": "aa7bb2e8",
   "metadata": {},
   "outputs": [],
   "source": [
    "k1=re.findall(r\"(\\w+)\",k)"
   ]
  },
  {
   "cell_type": "code",
   "execution_count": 43,
   "id": "5bae8f12",
   "metadata": {},
   "outputs": [
    {
     "data": {
      "text/plain": [
       "'Grey'"
      ]
     },
     "execution_count": 43,
     "metadata": {},
     "output_type": "execute_result"
    }
   ],
   "source": [
    "k1[-1]"
   ]
  },
  {
   "cell_type": "code",
   "execution_count": 51,
   "id": "6310062b",
   "metadata": {},
   "outputs": [],
   "source": [
    "colour=[]\n",
    "for i in links1:\n",
    "    k=i[0].text\n",
    "    k1=re.findall(r\"\\w+\",k)\n",
    "    colour.append(k1[-1])"
   ]
  },
  {
   "cell_type": "code",
   "execution_count": 127,
   "id": "138fb35a",
   "metadata": {},
   "outputs": [
    {
     "data": {
      "text/plain": [
       "['Multicolor',\n",
       " 'White',\n",
       " 'Black',\n",
       " 'Black',\n",
       " 'Navy',\n",
       " 'Blue',\n",
       " 'Pink',\n",
       " 'Pink',\n",
       " 'Brown',\n",
       " 'Navy',\n",
       " 'White',\n",
       " 'White',\n",
       " 'Black',\n",
       " 'White',\n",
       " 'Blue',\n",
       " 'White',\n",
       " 'White',\n",
       " 'Blue',\n",
       " 'Black',\n",
       " 'Brown',\n",
       " 'Pink',\n",
       " 'White',\n",
       " 'Brown',\n",
       " 'Grey',\n",
       " 'Black',\n",
       " 'White',\n",
       " 'White',\n",
       " 'Pink',\n",
       " 'Blue',\n",
       " 'White',\n",
       " 'White',\n",
       " 'Blue',\n",
       " 'Blue',\n",
       " 'White',\n",
       " 'White',\n",
       " 'Black',\n",
       " 'Blue',\n",
       " 'Black',\n",
       " 'White',\n",
       " 'Black']"
      ]
     },
     "execution_count": 127,
     "metadata": {},
     "output_type": "execute_result"
    }
   ],
   "source": [
    "colour"
   ]
  },
  {
   "cell_type": "code",
   "execution_count": 126,
   "id": "7a457fbb",
   "metadata": {},
   "outputs": [],
   "source": [
    "links2=[]\n",
    "for i in link:\n",
    "    k='https://www.flipkart.com'+i\n",
    "    page1=requests.get(k)\n",
    "    soup1=BeautifulSoup(page1.text)\n",
    "    links2.append(soup1.find_all(\"span\",class_=\"_2_R_DZ\"))"
   ]
  },
  {
   "cell_type": "code",
   "execution_count": 128,
   "id": "35862bcf",
   "metadata": {},
   "outputs": [
    {
     "data": {
      "text/plain": [
       "[[<span class=\"_2_R_DZ\"><span>165 ratings and 13 reviews</span></span>,\n",
       "  <span class=\"_2_R_DZ _2IRzS8\"><span>165 ratings and 13 reviews</span></span>],\n",
       " [<span class=\"_2_R_DZ\"><span>353 ratings and 50 reviews</span></span>,\n",
       "  <span class=\"_2_R_DZ _2IRzS8\"><span>353 ratings and 50 reviews</span></span>],\n",
       " [<span class=\"_2_R_DZ\"><span>39,764 ratings and 3,625 reviews</span></span>,\n",
       "  <span class=\"_2_R_DZ _2IRzS8\"><span>39,764 ratings and 3,625 reviews</span></span>],\n",
       " [<span class=\"_2_R_DZ\"><span>67,499 ratings and 5,177 reviews</span></span>,\n",
       "  <span class=\"_2_R_DZ _2IRzS8\"><span>67,499 ratings and 5,177 reviews</span></span>],\n",
       " [<span class=\"_2_R_DZ\"><span>1,710 ratings and 266 reviews</span></span>,\n",
       "  <span class=\"_2_R_DZ _2IRzS8\"><span>1,710 ratings and 266 reviews</span></span>],\n",
       " [<span class=\"_2_R_DZ\"><span>71,360 ratings and 5,520 reviews</span></span>,\n",
       "  <span class=\"_2_R_DZ _2IRzS8\"><span>71,360 ratings and 5,520 reviews</span></span>],\n",
       " [<span class=\"_2_R_DZ\"><span>1,780 ratings and 210 reviews</span></span>,\n",
       "  <span class=\"_2_R_DZ _2IRzS8\"><span>1,780 ratings and 210 reviews</span></span>],\n",
       " [<span class=\"_2_R_DZ\"><span>1,390 ratings and 121 reviews</span></span>,\n",
       "  <span class=\"_2_R_DZ _2IRzS8\"><span>1,390 ratings and 121 reviews</span></span>],\n",
       " [],\n",
       " [<span class=\"_2_R_DZ\"><span>1,41,482 ratings and 15,357 reviews</span></span>,\n",
       "  <span class=\"_2_R_DZ _2IRzS8\"><span>1,41,482 ratings and 15,357 reviews</span></span>],\n",
       " [<span class=\"_2_R_DZ\"><span>32,801 ratings and 3,083 reviews</span></span>,\n",
       "  <span class=\"_2_R_DZ _2IRzS8\"><span>32,801 ratings and 3,083 reviews</span></span>],\n",
       " [<span class=\"_2_R_DZ\"><span>2,147 ratings and 223 reviews</span></span>,\n",
       "  <span class=\"_2_R_DZ _2IRzS8\"><span>2,147 ratings and 223 reviews</span></span>],\n",
       " [<span class=\"_2_R_DZ\"><span>18,571 ratings and 1,567 reviews</span></span>,\n",
       "  <span class=\"_2_R_DZ _2IRzS8\"><span>18,571 ratings and 1,567 reviews</span></span>],\n",
       " [<span class=\"_2_R_DZ\"><span>1,406 ratings and 228 reviews</span></span>,\n",
       "  <span class=\"_2_R_DZ _2IRzS8\"><span>1,406 ratings and 228 reviews</span></span>],\n",
       " [<span class=\"_2_R_DZ\"><span>1,41,482 ratings and 15,357 reviews</span></span>,\n",
       "  <span class=\"_2_R_DZ _2IRzS8\"><span>1,41,482 ratings and 15,357 reviews</span></span>],\n",
       " [<span class=\"_2_R_DZ\"><span>4,964 ratings and 558 reviews</span></span>,\n",
       "  <span class=\"_2_R_DZ _2IRzS8\"><span>4,964 ratings and 558 reviews</span></span>],\n",
       " [<span class=\"_2_R_DZ\"><span>1,257 ratings and 149 reviews</span></span>,\n",
       "  <span class=\"_2_R_DZ _2IRzS8\"><span>1,257 ratings and 149 reviews</span></span>],\n",
       " [<span class=\"_2_R_DZ\"><span>18,119 ratings and 1,740 reviews</span></span>,\n",
       "  <span class=\"_2_R_DZ _2IRzS8\"><span>18,119 ratings and 1,740 reviews</span></span>],\n",
       " [<span class=\"_2_R_DZ\"><span>21,044 ratings and 2,161 reviews</span></span>,\n",
       "  <span class=\"_2_R_DZ _2IRzS8\"><span>21,044 ratings and 2,161 reviews</span></span>],\n",
       " [<span class=\"_2_R_DZ\"><span>3 ratings and 0 reviews</span></span>,\n",
       "  <span class=\"_2_R_DZ _2IRzS8\"><span>3 ratings and 0 reviews</span></span>],\n",
       " [<span class=\"_2_R_DZ\"><span>8,134 ratings and 807 reviews</span></span>,\n",
       "  <span class=\"_2_R_DZ _2IRzS8\"><span>8,134 ratings and 807 reviews</span></span>],\n",
       " [<span class=\"_2_R_DZ\"><span>4,964 ratings and 558 reviews</span></span>,\n",
       "  <span class=\"_2_R_DZ _2IRzS8\"><span>4,964 ratings and 558 reviews</span></span>],\n",
       " [<span class=\"_2_R_DZ\"><span>20,043 ratings and 1,620 reviews</span></span>,\n",
       "  <span class=\"_2_R_DZ _2IRzS8\"><span>20,043 ratings and 1,620 reviews</span></span>],\n",
       " [<span class=\"_2_R_DZ\"><span>71,360 ratings and 5,520 reviews</span></span>,\n",
       "  <span class=\"_2_R_DZ _2IRzS8\"><span>71,360 ratings and 5,520 reviews</span></span>],\n",
       " [<span class=\"_2_R_DZ\"><span>16,121 ratings and 1,446 reviews</span></span>,\n",
       "  <span class=\"_2_R_DZ _2IRzS8\"><span>16,121 ratings and 1,446 reviews</span></span>],\n",
       " [<span class=\"_2_R_DZ\"><span>3,534 ratings and 287 reviews</span></span>,\n",
       "  <span class=\"_2_R_DZ _2IRzS8\"><span>3,534 ratings and 287 reviews</span></span>],\n",
       " [<span class=\"_2_R_DZ\"><span>33,931 ratings and 2,912 reviews</span></span>,\n",
       "  <span class=\"_2_R_DZ _2IRzS8\"><span>33,931 ratings and 2,912 reviews</span></span>],\n",
       " [<span class=\"_2_R_DZ\"><span>4,387 ratings and 350 reviews</span></span>,\n",
       "  <span class=\"_2_R_DZ _2IRzS8\"><span>4,387 ratings and 350 reviews</span></span>],\n",
       " [<span class=\"_2_R_DZ\"><span>353 ratings and 50 reviews</span></span>,\n",
       "  <span class=\"_2_R_DZ _2IRzS8\"><span>353 ratings and 50 reviews</span></span>],\n",
       " [<span class=\"_2_R_DZ\"><span>67,499 ratings and 5,177 reviews</span></span>,\n",
       "  <span class=\"_2_R_DZ _2IRzS8\"><span>67,499 ratings and 5,177 reviews</span></span>],\n",
       " [<span class=\"_2_R_DZ\"><span>434 ratings and 36 reviews</span></span>,\n",
       "  <span class=\"_2_R_DZ _2IRzS8\"><span>434 ratings and 36 reviews</span></span>],\n",
       " [<span class=\"_2_R_DZ\"><span>12,793 ratings and 1,279 reviews</span></span>,\n",
       "  <span class=\"_2_R_DZ _2IRzS8\"><span>12,793 ratings and 1,279 reviews</span></span>],\n",
       " [<span class=\"_2_R_DZ\"><span>11,309 ratings and 939 reviews</span></span>,\n",
       "  <span class=\"_2_R_DZ _2IRzS8\"><span>11,309 ratings and 939 reviews</span></span>],\n",
       " [<span class=\"_2_R_DZ\"><span>165 ratings and 13 reviews</span></span>,\n",
       "  <span class=\"_2_R_DZ _2IRzS8\"><span>165 ratings and 13 reviews</span></span>],\n",
       " [],\n",
       " [<span class=\"_2_R_DZ\"><span>9,229 ratings and 774 reviews</span></span>,\n",
       "  <span class=\"_2_R_DZ _2IRzS8\"><span>9,229 ratings and 774 reviews</span></span>],\n",
       " [<span class=\"_2_R_DZ\"><span>5,396 ratings and 468 reviews</span></span>,\n",
       "  <span class=\"_2_R_DZ _2IRzS8\"><span>5,396 ratings and 468 reviews</span></span>],\n",
       " [<span class=\"_2_R_DZ\"><span>2,373 ratings and 161 reviews</span></span>,\n",
       "  <span class=\"_2_R_DZ _2IRzS8\"><span>2,373 ratings and 161 reviews</span></span>],\n",
       " [<span class=\"_2_R_DZ\"><span>4,964 ratings and 558 reviews</span></span>,\n",
       "  <span class=\"_2_R_DZ _2IRzS8\"><span>4,964 ratings and 558 reviews</span></span>],\n",
       " [<span class=\"_2_R_DZ\"><span>6,299 ratings and 565 reviews</span></span>,\n",
       "  <span class=\"_2_R_DZ _2IRzS8\"><span>6,299 ratings and 565 reviews</span></span>]]"
      ]
     },
     "execution_count": 128,
     "metadata": {},
     "output_type": "execute_result"
    }
   ],
   "source": [
    "links2"
   ]
  },
  {
   "cell_type": "code",
   "execution_count": 129,
   "id": "ebf76cd9",
   "metadata": {},
   "outputs": [],
   "source": [
    "buyers=[]\n",
    "for i in links2:\n",
    "    if i:\n",
    "        buyers.append(i[0].text.split(\" \")[0])\n",
    "    else:\n",
    "        buyers.append(np.nan)"
   ]
  },
  {
   "cell_type": "code",
   "execution_count": 131,
   "id": "de240df8",
   "metadata": {},
   "outputs": [
    {
     "data": {
      "text/plain": [
       "40"
      ]
     },
     "execution_count": 131,
     "metadata": {},
     "output_type": "execute_result"
    }
   ],
   "source": [
    "len(buyers"
   ]
  },
  {
   "cell_type": "raw",
   "id": "1ee11c44",
   "metadata": {},
   "source": []
  },
  {
   "cell_type": "code",
   "execution_count": 100,
   "id": "85f04a9a",
   "metadata": {},
   "outputs": [],
   "source": [
    "res=soup1.find_all(\"span\",class_=\"B_NuCI\")"
   ]
  },
  {
   "cell_type": "code",
   "execution_count": 101,
   "id": "6c4453a0",
   "metadata": {},
   "outputs": [
    {
     "data": {
      "text/plain": [
       "[<span class=\"B_NuCI\">MIKE (N) Running Shoes For Men<!-- -->  (Black)</span>]"
      ]
     },
     "execution_count": 101,
     "metadata": {},
     "output_type": "execute_result"
    }
   ],
   "source": [
    "res"
   ]
  },
  {
   "cell_type": "code",
   "execution_count": 110,
   "id": "b565cd75",
   "metadata": {},
   "outputs": [],
   "source": [
    "Reviews=[]\n",
    "for i in link:\n",
    "    k='https://www.flipkart.com'+i\n",
    "    page1=requests.get(k)\n",
    "    soup1=BeautifulSoup(page1.text)\n",
    "    Reviews.append(soup1.find_all(\"span\",class_=\"_2_R_DZ\"))"
   ]
  },
  {
   "cell_type": "code",
   "execution_count": 113,
   "id": "77608091",
   "metadata": {},
   "outputs": [
    {
     "data": {
      "text/plain": [
       "'13'"
      ]
     },
     "execution_count": 113,
     "metadata": {},
     "output_type": "execute_result"
    }
   ],
   "source": [
    "import numpy as np\n",
    "Reviews[0][0].text.split(\" \")[-2]"
   ]
  },
  {
   "cell_type": "code",
   "execution_count": 114,
   "id": "5d5a6635",
   "metadata": {},
   "outputs": [],
   "source": [
    "Review = []\n",
    "for i in Reviews:\n",
    "    if i:\n",
    "        Review.append(i[0].text.split(\" \")[-2])\n",
    "    else:\n",
    "        Review.append(np.nan)"
   ]
  },
  {
   "cell_type": "code",
   "execution_count": 116,
   "id": "c1803d6b",
   "metadata": {},
   "outputs": [
    {
     "data": {
      "text/plain": [
       "['13',\n",
       " '50',\n",
       " '3,625',\n",
       " '5,177',\n",
       " '266',\n",
       " '5,520',\n",
       " '210',\n",
       " '121',\n",
       " nan,\n",
       " '15,357',\n",
       " '3,117',\n",
       " '223',\n",
       " nan,\n",
       " '266',\n",
       " '15,357',\n",
       " '558',\n",
       " '149',\n",
       " '1,740',\n",
       " '2,161',\n",
       " '0',\n",
       " '807',\n",
       " '558',\n",
       " '1,620',\n",
       " '5,520',\n",
       " '1,446',\n",
       " '287',\n",
       " '2,912',\n",
       " '350',\n",
       " '50',\n",
       " '5,177',\n",
       " '36',\n",
       " '1,279',\n",
       " '939',\n",
       " nan,\n",
       " nan,\n",
       " '774',\n",
       " '468',\n",
       " '161',\n",
       " '526',\n",
       " '565']"
      ]
     },
     "execution_count": 116,
     "metadata": {},
     "output_type": "execute_result"
    }
   ],
   "source": [
    "Review"
   ]
  },
  {
   "cell_type": "code",
   "execution_count": 176,
   "id": "17cfb7b0",
   "metadata": {},
   "outputs": [
    {
     "data": {
      "text/plain": [
       "39"
      ]
     },
     "execution_count": 176,
     "metadata": {},
     "output_type": "execute_result"
    }
   ],
   "source": [
    "len(OriginalPrice)"
   ]
  },
  {
   "cell_type": "code",
   "execution_count": 219,
   "id": "9a74bd98",
   "metadata": {},
   "outputs": [],
   "source": [
    "import pandas as pd"
   ]
  },
  {
   "cell_type": "code",
   "execution_count": 220,
   "id": "cd178aea",
   "metadata": {},
   "outputs": [],
   "source": [
    "df1 = {\"Brands\":Brand,\n",
    "       \"OriginalPrice\":OriginalPrice,\n",
    "       \"Discount(%)\":Discount,\n",
    "       \"Price\":Price,\n",
    "       \"Gender\":gender,\n",
    "       \"colour\":colour,\n",
    "       \"TotalRatings\":buyers,\n",
    "       \"Reviews\":Review\n",
    "      }"
   ]
  },
  {
   "cell_type": "code",
   "execution_count": 221,
   "id": "24e60d52",
   "metadata": {},
   "outputs": [
    {
     "data": {
      "text/html": [
       "<div>\n",
       "<style scoped>\n",
       "    .dataframe tbody tr th:only-of-type {\n",
       "        vertical-align: middle;\n",
       "    }\n",
       "\n",
       "    .dataframe tbody tr th {\n",
       "        vertical-align: top;\n",
       "    }\n",
       "\n",
       "    .dataframe thead th {\n",
       "        text-align: right;\n",
       "    }\n",
       "</style>\n",
       "<table border=\"1\" class=\"dataframe\">\n",
       "  <thead>\n",
       "    <tr style=\"text-align: right;\">\n",
       "      <th></th>\n",
       "      <th>Brands</th>\n",
       "      <th>OriginalPrice</th>\n",
       "      <th>Discount(%)</th>\n",
       "      <th>Price</th>\n",
       "      <th>Gender</th>\n",
       "      <th>colour</th>\n",
       "      <th>TotalRatings</th>\n",
       "      <th>Reviews</th>\n",
       "    </tr>\n",
       "  </thead>\n",
       "  <tbody>\n",
       "    <tr>\n",
       "      <th>0</th>\n",
       "      <td>CAMPUS</td>\n",
       "      <td>₹1,899</td>\n",
       "      <td>[27]</td>\n",
       "      <td>₹1,378</td>\n",
       "      <td>Men</td>\n",
       "      <td>Blue</td>\n",
       "      <td>1,01,288</td>\n",
       "      <td>9,182</td>\n",
       "    </tr>\n",
       "    <tr>\n",
       "      <th>1</th>\n",
       "      <td>PUMA</td>\n",
       "      <td>₹3,299</td>\n",
       "      <td>[47]</td>\n",
       "      <td>₹1,748</td>\n",
       "      <td>Men</td>\n",
       "      <td>White</td>\n",
       "      <td>507</td>\n",
       "      <td>60</td>\n",
       "    </tr>\n",
       "    <tr>\n",
       "      <th>2</th>\n",
       "      <td>CAMPUS</td>\n",
       "      <td>₹1,699</td>\n",
       "      <td>[47]</td>\n",
       "      <td>₹899</td>\n",
       "      <td>Men</td>\n",
       "      <td>Black</td>\n",
       "      <td>67,499</td>\n",
       "      <td>5,177</td>\n",
       "    </tr>\n",
       "    <tr>\n",
       "      <th>3</th>\n",
       "      <td>Bata</td>\n",
       "      <td>₹1,199</td>\n",
       "      <td>[30]</td>\n",
       "      <td>₹829</td>\n",
       "      <td>Men</td>\n",
       "      <td>Black</td>\n",
       "      <td>39,764</td>\n",
       "      <td>3,625</td>\n",
       "    </tr>\n",
       "    <tr>\n",
       "      <th>4</th>\n",
       "      <td>CAMPUS</td>\n",
       "      <td>₹1,699</td>\n",
       "      <td>[47]</td>\n",
       "      <td>₹899</td>\n",
       "      <td>Men</td>\n",
       "      <td>Blue</td>\n",
       "      <td>71,360</td>\n",
       "      <td>5,520</td>\n",
       "    </tr>\n",
       "    <tr>\n",
       "      <th>5</th>\n",
       "      <td>CAMPUS</td>\n",
       "      <td>₹1,299</td>\n",
       "      <td>[38]</td>\n",
       "      <td>₹799</td>\n",
       "      <td>Men</td>\n",
       "      <td>Blue</td>\n",
       "      <td>1,41,482</td>\n",
       "      <td>15,357</td>\n",
       "    </tr>\n",
       "    <tr>\n",
       "      <th>6</th>\n",
       "      <td>PUMA</td>\n",
       "      <td>₹3,999</td>\n",
       "      <td>[60]</td>\n",
       "      <td>₹1,599</td>\n",
       "      <td>Men</td>\n",
       "      <td>White</td>\n",
       "      <td>1,622</td>\n",
       "      <td>149</td>\n",
       "    </tr>\n",
       "    <tr>\n",
       "      <th>7</th>\n",
       "      <td>PUMA</td>\n",
       "      <td>₹3,999</td>\n",
       "      <td>[70]</td>\n",
       "      <td>₹1,199</td>\n",
       "      <td>Men</td>\n",
       "      <td>Black</td>\n",
       "      <td>NaN</td>\n",
       "      <td>10,765</td>\n",
       "    </tr>\n",
       "    <tr>\n",
       "      <th>8</th>\n",
       "      <td>WOODLAND</td>\n",
       "      <td>₹5,695</td>\n",
       "      <td>[46]</td>\n",
       "      <td>₹3,039</td>\n",
       "      <td>Men</td>\n",
       "      <td>Black</td>\n",
       "      <td>NaN</td>\n",
       "      <td>NaN</td>\n",
       "    </tr>\n",
       "    <tr>\n",
       "      <th>9</th>\n",
       "      <td>Bata</td>\n",
       "      <td>₹1,099</td>\n",
       "      <td>[30]</td>\n",
       "      <td>₹759</td>\n",
       "      <td>Men</td>\n",
       "      <td>Black</td>\n",
       "      <td>18,571</td>\n",
       "      <td>1,567</td>\n",
       "    </tr>\n",
       "    <tr>\n",
       "      <th>10</th>\n",
       "      <td>CAMPUS</td>\n",
       "      <td>₹1,899</td>\n",
       "      <td>[27]</td>\n",
       "      <td>₹1,378</td>\n",
       "      <td>Men</td>\n",
       "      <td>White</td>\n",
       "      <td>1,07,878</td>\n",
       "      <td>10,364</td>\n",
       "    </tr>\n",
       "    <tr>\n",
       "      <th>11</th>\n",
       "      <td>CAMPUS</td>\n",
       "      <td>₹1,699</td>\n",
       "      <td>[19]</td>\n",
       "      <td>₹1,361</td>\n",
       "      <td>Men</td>\n",
       "      <td>Black</td>\n",
       "      <td>67,499</td>\n",
       "      <td>5,147</td>\n",
       "    </tr>\n",
       "    <tr>\n",
       "      <th>12</th>\n",
       "      <td>RED TAPE</td>\n",
       "      <td>₹5,699</td>\n",
       "      <td>[80]</td>\n",
       "      <td>₹1,139</td>\n",
       "      <td>Men</td>\n",
       "      <td>White</td>\n",
       "      <td>1,406</td>\n",
       "      <td>228</td>\n",
       "    </tr>\n",
       "    <tr>\n",
       "      <th>13</th>\n",
       "      <td>RED TAPE</td>\n",
       "      <td>₹7,899</td>\n",
       "      <td>[80]</td>\n",
       "      <td>₹1,579</td>\n",
       "      <td>Men</td>\n",
       "      <td>White</td>\n",
       "      <td>4,606</td>\n",
       "      <td>526</td>\n",
       "    </tr>\n",
       "    <tr>\n",
       "      <th>14</th>\n",
       "      <td>Bata</td>\n",
       "      <td>₹999</td>\n",
       "      <td>[31]</td>\n",
       "      <td>₹689</td>\n",
       "      <td>Men</td>\n",
       "      <td>Brown</td>\n",
       "      <td>20,043</td>\n",
       "      <td>1,620</td>\n",
       "    </tr>\n",
       "    <tr>\n",
       "      <th>15</th>\n",
       "      <td>RED TAPE</td>\n",
       "      <td>₹5,699</td>\n",
       "      <td>[80]</td>\n",
       "      <td>₹1,139</td>\n",
       "      <td>Men</td>\n",
       "      <td>Navy</td>\n",
       "      <td>1,406</td>\n",
       "      <td>228</td>\n",
       "    </tr>\n",
       "    <tr>\n",
       "      <th>16</th>\n",
       "      <td>CAMPUS</td>\n",
       "      <td>₹1,399</td>\n",
       "      <td>[24]</td>\n",
       "      <td>₹1,057</td>\n",
       "      <td>Women</td>\n",
       "      <td>White</td>\n",
       "      <td>22,680</td>\n",
       "      <td>2,161</td>\n",
       "    </tr>\n",
       "    <tr>\n",
       "      <th>17</th>\n",
       "      <td>PUMA</td>\n",
       "      <td>₹4,999</td>\n",
       "      <td>[47]</td>\n",
       "      <td>₹2,649</td>\n",
       "      <td>Men</td>\n",
       "      <td>Grey</td>\n",
       "      <td>3,487</td>\n",
       "      <td>362</td>\n",
       "    </tr>\n",
       "    <tr>\n",
       "      <th>18</th>\n",
       "      <td>RED TAPE</td>\n",
       "      <td>₹5,399</td>\n",
       "      <td>[80]</td>\n",
       "      <td>₹1,079</td>\n",
       "      <td>Men</td>\n",
       "      <td>Black</td>\n",
       "      <td>20,730</td>\n",
       "      <td>2,130</td>\n",
       "    </tr>\n",
       "    <tr>\n",
       "      <th>19</th>\n",
       "      <td>WOODLAND</td>\n",
       "      <td>₹5,695</td>\n",
       "      <td>[46]</td>\n",
       "      <td>₹3,039</td>\n",
       "      <td>Men</td>\n",
       "      <td>Brown</td>\n",
       "      <td>3</td>\n",
       "      <td>0</td>\n",
       "    </tr>\n",
       "    <tr>\n",
       "      <th>20</th>\n",
       "      <td>CAMPUS</td>\n",
       "      <td>₹1,699</td>\n",
       "      <td>[26]</td>\n",
       "      <td>₹1,255</td>\n",
       "      <td>Men</td>\n",
       "      <td>Blue</td>\n",
       "      <td>67,499</td>\n",
       "      <td>5,177</td>\n",
       "    </tr>\n",
       "    <tr>\n",
       "      <th>21</th>\n",
       "      <td>PUMA</td>\n",
       "      <td>₹5,499</td>\n",
       "      <td>[48]</td>\n",
       "      <td>₹2,859</td>\n",
       "      <td>Men</td>\n",
       "      <td>White</td>\n",
       "      <td>3,189</td>\n",
       "      <td>258</td>\n",
       "    </tr>\n",
       "    <tr>\n",
       "      <th>22</th>\n",
       "      <td>CAMPUS</td>\n",
       "      <td>₹1,299</td>\n",
       "      <td>[38]</td>\n",
       "      <td>₹799</td>\n",
       "      <td>Men</td>\n",
       "      <td>Navy</td>\n",
       "      <td>1,41,482</td>\n",
       "      <td>15,357</td>\n",
       "    </tr>\n",
       "    <tr>\n",
       "      <th>23</th>\n",
       "      <td>CAMPUS</td>\n",
       "      <td>₹1,299</td>\n",
       "      <td>[46]</td>\n",
       "      <td>₹699</td>\n",
       "      <td>Men</td>\n",
       "      <td>Blue</td>\n",
       "      <td>53,164</td>\n",
       "      <td>4,462</td>\n",
       "    </tr>\n",
       "    <tr>\n",
       "      <th>24</th>\n",
       "      <td>RED TAPE</td>\n",
       "      <td>₹8,499</td>\n",
       "      <td>[80]</td>\n",
       "      <td>₹1,699</td>\n",
       "      <td>Men</td>\n",
       "      <td>White</td>\n",
       "      <td>165</td>\n",
       "      <td>13</td>\n",
       "    </tr>\n",
       "    <tr>\n",
       "      <th>25</th>\n",
       "      <td>RED TAPE</td>\n",
       "      <td>₹5,899</td>\n",
       "      <td>[80]</td>\n",
       "      <td>₹1,179</td>\n",
       "      <td>Men</td>\n",
       "      <td>White</td>\n",
       "      <td>353</td>\n",
       "      <td>50</td>\n",
       "    </tr>\n",
       "    <tr>\n",
       "      <th>26</th>\n",
       "      <td>PUMA</td>\n",
       "      <td>₹6,999</td>\n",
       "      <td>[48]</td>\n",
       "      <td>₹3,639</td>\n",
       "      <td>Men</td>\n",
       "      <td>Black</td>\n",
       "      <td>2,365</td>\n",
       "      <td>210</td>\n",
       "    </tr>\n",
       "    <tr>\n",
       "      <th>27</th>\n",
       "      <td>PUMA</td>\n",
       "      <td>₹4,999</td>\n",
       "      <td>[47]</td>\n",
       "      <td>₹2,649</td>\n",
       "      <td>Men</td>\n",
       "      <td>Red</td>\n",
       "      <td>2,676</td>\n",
       "      <td>225</td>\n",
       "    </tr>\n",
       "    <tr>\n",
       "      <th>28</th>\n",
       "      <td>Bata</td>\n",
       "      <td>₹1,099</td>\n",
       "      <td>[30]</td>\n",
       "      <td>₹759</td>\n",
       "      <td>Men</td>\n",
       "      <td>Black</td>\n",
       "      <td>16,121</td>\n",
       "      <td>1,446</td>\n",
       "    </tr>\n",
       "    <tr>\n",
       "      <th>29</th>\n",
       "      <td>RED TAPE</td>\n",
       "      <td>₹6,899</td>\n",
       "      <td>[80]</td>\n",
       "      <td>₹1,379</td>\n",
       "      <td>Men</td>\n",
       "      <td>White</td>\n",
       "      <td>32,801</td>\n",
       "      <td>3,083</td>\n",
       "    </tr>\n",
       "    <tr>\n",
       "      <th>30</th>\n",
       "      <td>PUMA</td>\n",
       "      <td>₹3,999</td>\n",
       "      <td>[70]</td>\n",
       "      <td>₹1,199</td>\n",
       "      <td>Men</td>\n",
       "      <td>Red</td>\n",
       "      <td>42,266</td>\n",
       "      <td>3,666</td>\n",
       "    </tr>\n",
       "    <tr>\n",
       "      <th>31</th>\n",
       "      <td>ADIDAS</td>\n",
       "      <td>₹3,799</td>\n",
       "      <td>[49]</td>\n",
       "      <td>₹1,900</td>\n",
       "      <td>Men</td>\n",
       "      <td>White</td>\n",
       "      <td>NaN</td>\n",
       "      <td>28</td>\n",
       "    </tr>\n",
       "    <tr>\n",
       "      <th>32</th>\n",
       "      <td>ADIDAS</td>\n",
       "      <td>₹3,299</td>\n",
       "      <td>[55]</td>\n",
       "      <td>₹1,479</td>\n",
       "      <td>Men</td>\n",
       "      <td>Grey</td>\n",
       "      <td>7,740</td>\n",
       "      <td>693</td>\n",
       "    </tr>\n",
       "    <tr>\n",
       "      <th>33</th>\n",
       "      <td>CAMPUS</td>\n",
       "      <td>₹1,899</td>\n",
       "      <td>[28]</td>\n",
       "      <td>₹1,361</td>\n",
       "      <td>Men</td>\n",
       "      <td>Black</td>\n",
       "      <td>9,229</td>\n",
       "      <td>774</td>\n",
       "    </tr>\n",
       "    <tr>\n",
       "      <th>34</th>\n",
       "      <td>CAMPUS</td>\n",
       "      <td>₹1,699</td>\n",
       "      <td>[47]</td>\n",
       "      <td>₹899</td>\n",
       "      <td>Men</td>\n",
       "      <td>Grey</td>\n",
       "      <td>71,360</td>\n",
       "      <td>5,520</td>\n",
       "    </tr>\n",
       "    <tr>\n",
       "      <th>35</th>\n",
       "      <td>CAMPUS</td>\n",
       "      <td>₹1,699</td>\n",
       "      <td>[47]</td>\n",
       "      <td>₹899</td>\n",
       "      <td>Men</td>\n",
       "      <td>Blue</td>\n",
       "      <td>71,360</td>\n",
       "      <td>5,520</td>\n",
       "    </tr>\n",
       "    <tr>\n",
       "      <th>36</th>\n",
       "      <td>PUMA</td>\n",
       "      <td>₹7,499</td>\n",
       "      <td>[48]</td>\n",
       "      <td>₹3,899</td>\n",
       "      <td>Men</td>\n",
       "      <td>White</td>\n",
       "      <td>290</td>\n",
       "      <td>50</td>\n",
       "    </tr>\n",
       "    <tr>\n",
       "      <th>37</th>\n",
       "      <td>ADIDAS</td>\n",
       "      <td>₹4,799</td>\n",
       "      <td>[45]</td>\n",
       "      <td>₹2,639</td>\n",
       "      <td>Men</td>\n",
       "      <td>White</td>\n",
       "      <td>65</td>\n",
       "      <td>7</td>\n",
       "    </tr>\n",
       "    <tr>\n",
       "      <th>38</th>\n",
       "      <td>CAMPUS</td>\n",
       "      <td>₹1,899</td>\n",
       "      <td>[27]</td>\n",
       "      <td>₹1,378</td>\n",
       "      <td>Men</td>\n",
       "      <td>White</td>\n",
       "      <td>1,07,878</td>\n",
       "      <td>10,364</td>\n",
       "    </tr>\n",
       "    <tr>\n",
       "      <th>39</th>\n",
       "      <td>WOODLAND</td>\n",
       "      <td>₹4,295</td>\n",
       "      <td>[45]</td>\n",
       "      <td>₹2,359</td>\n",
       "      <td>Men</td>\n",
       "      <td>Khaki</td>\n",
       "      <td>6,299</td>\n",
       "      <td>565</td>\n",
       "    </tr>\n",
       "  </tbody>\n",
       "</table>\n",
       "</div>"
      ],
      "text/plain": [
       "      Brands OriginalPrice Discount(%)   Price Gender colour TotalRatings  \\\n",
       "0     CAMPUS        ₹1,899        [27]  ₹1,378    Men   Blue     1,01,288   \n",
       "1       PUMA        ₹3,299        [47]  ₹1,748    Men  White          507   \n",
       "2     CAMPUS        ₹1,699        [47]    ₹899    Men  Black       67,499   \n",
       "3       Bata        ₹1,199        [30]    ₹829    Men  Black       39,764   \n",
       "4     CAMPUS        ₹1,699        [47]    ₹899    Men   Blue       71,360   \n",
       "5     CAMPUS        ₹1,299        [38]    ₹799    Men   Blue     1,41,482   \n",
       "6       PUMA        ₹3,999        [60]  ₹1,599    Men  White        1,622   \n",
       "7       PUMA        ₹3,999        [70]  ₹1,199    Men  Black          NaN   \n",
       "8   WOODLAND        ₹5,695        [46]  ₹3,039    Men  Black          NaN   \n",
       "9       Bata        ₹1,099        [30]    ₹759    Men  Black       18,571   \n",
       "10    CAMPUS        ₹1,899        [27]  ₹1,378    Men  White     1,07,878   \n",
       "11    CAMPUS        ₹1,699        [19]  ₹1,361    Men  Black       67,499   \n",
       "12  RED TAPE        ₹5,699        [80]  ₹1,139    Men  White        1,406   \n",
       "13  RED TAPE        ₹7,899        [80]  ₹1,579    Men  White        4,606   \n",
       "14      Bata          ₹999        [31]    ₹689    Men  Brown       20,043   \n",
       "15  RED TAPE        ₹5,699        [80]  ₹1,139    Men   Navy        1,406   \n",
       "16    CAMPUS        ₹1,399        [24]  ₹1,057  Women  White       22,680   \n",
       "17      PUMA        ₹4,999        [47]  ₹2,649    Men   Grey        3,487   \n",
       "18  RED TAPE        ₹5,399        [80]  ₹1,079    Men  Black       20,730   \n",
       "19  WOODLAND        ₹5,695        [46]  ₹3,039    Men  Brown            3   \n",
       "20    CAMPUS        ₹1,699        [26]  ₹1,255    Men   Blue       67,499   \n",
       "21      PUMA        ₹5,499        [48]  ₹2,859    Men  White        3,189   \n",
       "22    CAMPUS        ₹1,299        [38]    ₹799    Men   Navy     1,41,482   \n",
       "23    CAMPUS        ₹1,299        [46]    ₹699    Men   Blue       53,164   \n",
       "24  RED TAPE        ₹8,499        [80]  ₹1,699    Men  White          165   \n",
       "25  RED TAPE        ₹5,899        [80]  ₹1,179    Men  White          353   \n",
       "26      PUMA        ₹6,999        [48]  ₹3,639    Men  Black        2,365   \n",
       "27      PUMA        ₹4,999        [47]  ₹2,649    Men    Red        2,676   \n",
       "28      Bata        ₹1,099        [30]    ₹759    Men  Black       16,121   \n",
       "29  RED TAPE        ₹6,899        [80]  ₹1,379    Men  White       32,801   \n",
       "30      PUMA        ₹3,999        [70]  ₹1,199    Men    Red       42,266   \n",
       "31    ADIDAS        ₹3,799        [49]  ₹1,900    Men  White          NaN   \n",
       "32    ADIDAS        ₹3,299        [55]  ₹1,479    Men   Grey        7,740   \n",
       "33    CAMPUS        ₹1,899        [28]  ₹1,361    Men  Black        9,229   \n",
       "34    CAMPUS        ₹1,699        [47]    ₹899    Men   Grey       71,360   \n",
       "35    CAMPUS        ₹1,699        [47]    ₹899    Men   Blue       71,360   \n",
       "36      PUMA        ₹7,499        [48]  ₹3,899    Men  White          290   \n",
       "37    ADIDAS        ₹4,799        [45]  ₹2,639    Men  White           65   \n",
       "38    CAMPUS        ₹1,899        [27]  ₹1,378    Men  White     1,07,878   \n",
       "39  WOODLAND        ₹4,295        [45]  ₹2,359    Men  Khaki        6,299   \n",
       "\n",
       "   Reviews  \n",
       "0    9,182  \n",
       "1       60  \n",
       "2    5,177  \n",
       "3    3,625  \n",
       "4    5,520  \n",
       "5   15,357  \n",
       "6      149  \n",
       "7   10,765  \n",
       "8      NaN  \n",
       "9    1,567  \n",
       "10  10,364  \n",
       "11   5,147  \n",
       "12     228  \n",
       "13     526  \n",
       "14   1,620  \n",
       "15     228  \n",
       "16   2,161  \n",
       "17     362  \n",
       "18   2,130  \n",
       "19       0  \n",
       "20   5,177  \n",
       "21     258  \n",
       "22  15,357  \n",
       "23   4,462  \n",
       "24      13  \n",
       "25      50  \n",
       "26     210  \n",
       "27     225  \n",
       "28   1,446  \n",
       "29   3,083  \n",
       "30   3,666  \n",
       "31      28  \n",
       "32     693  \n",
       "33     774  \n",
       "34   5,520  \n",
       "35   5,520  \n",
       "36      50  \n",
       "37       7  \n",
       "38  10,364  \n",
       "39     565  "
      ]
     },
     "execution_count": 221,
     "metadata": {},
     "output_type": "execute_result"
    }
   ],
   "source": [
    "pd.DataFrame(df1)"
   ]
  },
  {
   "cell_type": "code",
   "execution_count": null,
   "id": "0023b913",
   "metadata": {},
   "outputs": [],
   "source": []
  }
 ],
 "metadata": {
  "kernelspec": {
   "display_name": "Python 3 (ipykernel)",
   "language": "python",
   "name": "python3"
  },
  "language_info": {
   "codemirror_mode": {
    "name": "ipython",
    "version": 3
   },
   "file_extension": ".py",
   "mimetype": "text/x-python",
   "name": "python",
   "nbconvert_exporter": "python",
   "pygments_lexer": "ipython3",
   "version": "3.11.5"
  }
 },
 "nbformat": 4,
 "nbformat_minor": 5
}
